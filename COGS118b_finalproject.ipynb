{
  "nbformat": 4,
  "nbformat_minor": 0,
  "metadata": {
    "colab": {
      "name": "COGS118b_finalproject.ipynb",
      "provenance": [],
      "collapsed_sections": [],
      "include_colab_link": true
    },
    "kernelspec": {
      "display_name": "Python 3",
      "name": "python3"
    },
    "language_info": {
      "name": "python"
    }
  },
  "cells": [
    {
      "cell_type": "markdown",
      "metadata": {
        "id": "view-in-github",
        "colab_type": "text"
      },
      "source": [
        "<a href=\"https://colab.research.google.com/github/x5wang/Projects/blob/master/COGS118b_finalproject.ipynb\" target=\"_parent\"><img src=\"https://colab.research.google.com/assets/colab-badge.svg\" alt=\"Open In Colab\"/></a>"
      ]
    },
    {
      "cell_type": "markdown",
      "metadata": {
        "id": "E_8Dnm21aDnR"
      },
      "source": [
        "# COGS 118B Final Project"
      ]
    },
    {
      "cell_type": "markdown",
      "metadata": {
        "id": "WmwkOU2_aQET"
      },
      "source": [
        "Member:\n",
        "\n",
        "\n",
        "1. Yiou Lyu A15930345  \n",
        "2. Yiyi Xu A15403923\n",
        "3. Shengjie Mao A15531892\n",
        "4. Xinkai Wang A15454296"
      ]
    },
    {
      "cell_type": "markdown",
      "metadata": {
        "id": "M69Rjc9KafBx"
      },
      "source": [
        "**Method:**\n",
        "\n"
      ]
    },
    {
      "cell_type": "markdown",
      "metadata": {
        "id": "W8UVfSe1apRz"
      },
      "source": [
        "**Research Question:**"
      ]
    },
    {
      "cell_type": "markdown",
      "metadata": {
        "id": "pFRHuHNcat53"
      },
      "source": [
        "## Data Description and Variables"
      ]
    },
    {
      "cell_type": "markdown",
      "metadata": {
        "id": "FNvLHyuOazEF"
      },
      "source": [
        ""
      ]
    },
    {
      "cell_type": "markdown",
      "metadata": {
        "id": "Zj1gfWVCa2TP"
      },
      "source": [
        "## Hypothesis"
      ]
    },
    {
      "cell_type": "markdown",
      "metadata": {
        "id": "IrO6wtwWa8yP"
      },
      "source": [
        ""
      ]
    },
    {
      "cell_type": "markdown",
      "metadata": {
        "id": "rWG5jiZ3bGZS"
      },
      "source": [
        "## Importing Modules and Defining an Evaluation Table"
      ]
    },
    {
      "cell_type": "code",
      "metadata": {
        "id": "4WSAZOoYaJjp"
      },
      "source": [
        "import numpy as np\n",
        "import pandas as pd \n",
        "import matplotlib.pyplot as plt\n",
        "from matplotlib import pyplot\n",
        "from mpl_toolkits.mplot3d import Axes3D\n",
        "import seaborn as sns\n",
        "import random\n",
        "from sklearn import linear_model\n",
        "from sklearn.preprocessing import PolynomialFeatures,StandardScaler, normalize\n",
        "from sklearn.model_selection import train_test_split\n",
        "from sklearn.model_selection import cross_val_score\n",
        "from sklearn.cluster import SpectralClustering, KMeans\n",
        "from sklearn import metrics\n",
        "from sklearn.decomposition import PCA\n",
        "import folium\n",
        "from folium.plugins import HeatMap\n",
        "import matplotlib.ticker as ticker\n",
        "from sklearn.mixture import GaussianMixture as GM\n",
        "%matplotlib inline"
      ],
      "execution_count": null,
      "outputs": []
    },
    {
      "cell_type": "code",
      "metadata": {
        "id": "r_6cvljRhmj_"
      },
      "source": [
        "evaluation = pd.DataFrame({'Model': [],\n",
        "                           'Details':[],\n",
        "                           'Mean Squared Error (MSE)':[],\n",
        "                           'R-squared (training)':[],\n",
        "                           'Adjusted R-squared (training)':[],\n",
        "                           'R-squared (test)':[],\n",
        "                           'Adjusted R-squared (test)':[],\n",
        "                           '5-Fold Cross Validation':[]})\n",
        "evaluation_C = evaluation.copy()"
      ],
      "execution_count": null,
      "outputs": []
    },
    {
      "cell_type": "code",
      "metadata": {
        "id": "7HAq53jLhouD"
      },
      "source": [
        "def adjustedR2(r2,n,k):\n",
        "    return r2-(k-1)/(n-k)*(1-r2)"
      ],
      "execution_count": null,
      "outputs": []
    },
    {
      "cell_type": "markdown",
      "metadata": {
        "id": "nR-5co2XbQYX"
      },
      "source": [
        "## Data Import"
      ]
    },
    {
      "cell_type": "code",
      "metadata": {
        "colab": {
          "base_uri": "https://localhost:8080/"
        },
        "id": "a_Oxt8albUwJ",
        "outputId": "1181e89b-3186-4a04-eb62-61f07f3a5c83"
      },
      "source": [
        "raw_data = pd.read_csv('/content/CC GENERAL.csv')\n",
        "raw_data.shape"
      ],
      "execution_count": null,
      "outputs": [
        {
          "output_type": "execute_result",
          "data": {
            "text/plain": [
              "(8950, 18)"
            ]
          },
          "metadata": {
            "tags": []
          },
          "execution_count": 8
        }
      ]
    },
    {
      "cell_type": "code",
      "metadata": {
        "colab": {
          "base_uri": "https://localhost:8080/",
          "height": 317
        },
        "id": "48uIQh3ai2KY",
        "outputId": "5021707b-aefa-4c10-c33a-7c375d444412"
      },
      "source": [
        "raw_data.describe()"
      ],
      "execution_count": null,
      "outputs": [
        {
          "output_type": "execute_result",
          "data": {
            "text/html": [
              "<div>\n",
              "<style scoped>\n",
              "    .dataframe tbody tr th:only-of-type {\n",
              "        vertical-align: middle;\n",
              "    }\n",
              "\n",
              "    .dataframe tbody tr th {\n",
              "        vertical-align: top;\n",
              "    }\n",
              "\n",
              "    .dataframe thead th {\n",
              "        text-align: right;\n",
              "    }\n",
              "</style>\n",
              "<table border=\"1\" class=\"dataframe\">\n",
              "  <thead>\n",
              "    <tr style=\"text-align: right;\">\n",
              "      <th></th>\n",
              "      <th>BALANCE</th>\n",
              "      <th>BALANCE_FREQUENCY</th>\n",
              "      <th>PURCHASES</th>\n",
              "      <th>ONEOFF_PURCHASES</th>\n",
              "      <th>INSTALLMENTS_PURCHASES</th>\n",
              "      <th>CASH_ADVANCE</th>\n",
              "      <th>PURCHASES_FREQUENCY</th>\n",
              "      <th>ONEOFF_PURCHASES_FREQUENCY</th>\n",
              "      <th>PURCHASES_INSTALLMENTS_FREQUENCY</th>\n",
              "      <th>CASH_ADVANCE_FREQUENCY</th>\n",
              "      <th>CASH_ADVANCE_TRX</th>\n",
              "      <th>PURCHASES_TRX</th>\n",
              "      <th>CREDIT_LIMIT</th>\n",
              "      <th>PAYMENTS</th>\n",
              "      <th>MINIMUM_PAYMENTS</th>\n",
              "      <th>PRC_FULL_PAYMENT</th>\n",
              "      <th>TENURE</th>\n",
              "    </tr>\n",
              "  </thead>\n",
              "  <tbody>\n",
              "    <tr>\n",
              "      <th>count</th>\n",
              "      <td>8950.000000</td>\n",
              "      <td>8950.000000</td>\n",
              "      <td>8950.000000</td>\n",
              "      <td>8950.000000</td>\n",
              "      <td>8950.000000</td>\n",
              "      <td>8950.000000</td>\n",
              "      <td>8950.000000</td>\n",
              "      <td>8950.000000</td>\n",
              "      <td>8950.000000</td>\n",
              "      <td>8950.000000</td>\n",
              "      <td>8950.000000</td>\n",
              "      <td>8950.000000</td>\n",
              "      <td>8949.000000</td>\n",
              "      <td>8950.000000</td>\n",
              "      <td>8637.000000</td>\n",
              "      <td>8950.000000</td>\n",
              "      <td>8950.000000</td>\n",
              "    </tr>\n",
              "    <tr>\n",
              "      <th>mean</th>\n",
              "      <td>1564.474828</td>\n",
              "      <td>0.877271</td>\n",
              "      <td>1003.204834</td>\n",
              "      <td>592.437371</td>\n",
              "      <td>411.067645</td>\n",
              "      <td>978.871112</td>\n",
              "      <td>0.490351</td>\n",
              "      <td>0.202458</td>\n",
              "      <td>0.364437</td>\n",
              "      <td>0.135144</td>\n",
              "      <td>3.248827</td>\n",
              "      <td>14.709832</td>\n",
              "      <td>4494.449450</td>\n",
              "      <td>1733.143852</td>\n",
              "      <td>864.206542</td>\n",
              "      <td>0.153715</td>\n",
              "      <td>11.517318</td>\n",
              "    </tr>\n",
              "    <tr>\n",
              "      <th>std</th>\n",
              "      <td>2081.531879</td>\n",
              "      <td>0.236904</td>\n",
              "      <td>2136.634782</td>\n",
              "      <td>1659.887917</td>\n",
              "      <td>904.338115</td>\n",
              "      <td>2097.163877</td>\n",
              "      <td>0.401371</td>\n",
              "      <td>0.298336</td>\n",
              "      <td>0.397448</td>\n",
              "      <td>0.200121</td>\n",
              "      <td>6.824647</td>\n",
              "      <td>24.857649</td>\n",
              "      <td>3638.815725</td>\n",
              "      <td>2895.063757</td>\n",
              "      <td>2372.446607</td>\n",
              "      <td>0.292499</td>\n",
              "      <td>1.338331</td>\n",
              "    </tr>\n",
              "    <tr>\n",
              "      <th>min</th>\n",
              "      <td>0.000000</td>\n",
              "      <td>0.000000</td>\n",
              "      <td>0.000000</td>\n",
              "      <td>0.000000</td>\n",
              "      <td>0.000000</td>\n",
              "      <td>0.000000</td>\n",
              "      <td>0.000000</td>\n",
              "      <td>0.000000</td>\n",
              "      <td>0.000000</td>\n",
              "      <td>0.000000</td>\n",
              "      <td>0.000000</td>\n",
              "      <td>0.000000</td>\n",
              "      <td>50.000000</td>\n",
              "      <td>0.000000</td>\n",
              "      <td>0.019163</td>\n",
              "      <td>0.000000</td>\n",
              "      <td>6.000000</td>\n",
              "    </tr>\n",
              "    <tr>\n",
              "      <th>25%</th>\n",
              "      <td>128.281915</td>\n",
              "      <td>0.888889</td>\n",
              "      <td>39.635000</td>\n",
              "      <td>0.000000</td>\n",
              "      <td>0.000000</td>\n",
              "      <td>0.000000</td>\n",
              "      <td>0.083333</td>\n",
              "      <td>0.000000</td>\n",
              "      <td>0.000000</td>\n",
              "      <td>0.000000</td>\n",
              "      <td>0.000000</td>\n",
              "      <td>1.000000</td>\n",
              "      <td>1600.000000</td>\n",
              "      <td>383.276166</td>\n",
              "      <td>169.123707</td>\n",
              "      <td>0.000000</td>\n",
              "      <td>12.000000</td>\n",
              "    </tr>\n",
              "    <tr>\n",
              "      <th>50%</th>\n",
              "      <td>873.385231</td>\n",
              "      <td>1.000000</td>\n",
              "      <td>361.280000</td>\n",
              "      <td>38.000000</td>\n",
              "      <td>89.000000</td>\n",
              "      <td>0.000000</td>\n",
              "      <td>0.500000</td>\n",
              "      <td>0.083333</td>\n",
              "      <td>0.166667</td>\n",
              "      <td>0.000000</td>\n",
              "      <td>0.000000</td>\n",
              "      <td>7.000000</td>\n",
              "      <td>3000.000000</td>\n",
              "      <td>856.901546</td>\n",
              "      <td>312.343947</td>\n",
              "      <td>0.000000</td>\n",
              "      <td>12.000000</td>\n",
              "    </tr>\n",
              "    <tr>\n",
              "      <th>75%</th>\n",
              "      <td>2054.140036</td>\n",
              "      <td>1.000000</td>\n",
              "      <td>1110.130000</td>\n",
              "      <td>577.405000</td>\n",
              "      <td>468.637500</td>\n",
              "      <td>1113.821139</td>\n",
              "      <td>0.916667</td>\n",
              "      <td>0.300000</td>\n",
              "      <td>0.750000</td>\n",
              "      <td>0.222222</td>\n",
              "      <td>4.000000</td>\n",
              "      <td>17.000000</td>\n",
              "      <td>6500.000000</td>\n",
              "      <td>1901.134317</td>\n",
              "      <td>825.485459</td>\n",
              "      <td>0.142857</td>\n",
              "      <td>12.000000</td>\n",
              "    </tr>\n",
              "    <tr>\n",
              "      <th>max</th>\n",
              "      <td>19043.138560</td>\n",
              "      <td>1.000000</td>\n",
              "      <td>49039.570000</td>\n",
              "      <td>40761.250000</td>\n",
              "      <td>22500.000000</td>\n",
              "      <td>47137.211760</td>\n",
              "      <td>1.000000</td>\n",
              "      <td>1.000000</td>\n",
              "      <td>1.000000</td>\n",
              "      <td>1.500000</td>\n",
              "      <td>123.000000</td>\n",
              "      <td>358.000000</td>\n",
              "      <td>30000.000000</td>\n",
              "      <td>50721.483360</td>\n",
              "      <td>76406.207520</td>\n",
              "      <td>1.000000</td>\n",
              "      <td>12.000000</td>\n",
              "    </tr>\n",
              "  </tbody>\n",
              "</table>\n",
              "</div>"
            ],
            "text/plain": [
              "            BALANCE  BALANCE_FREQUENCY  ...  PRC_FULL_PAYMENT       TENURE\n",
              "count   8950.000000        8950.000000  ...       8950.000000  8950.000000\n",
              "mean    1564.474828           0.877271  ...          0.153715    11.517318\n",
              "std     2081.531879           0.236904  ...          0.292499     1.338331\n",
              "min        0.000000           0.000000  ...          0.000000     6.000000\n",
              "25%      128.281915           0.888889  ...          0.000000    12.000000\n",
              "50%      873.385231           1.000000  ...          0.000000    12.000000\n",
              "75%     2054.140036           1.000000  ...          0.142857    12.000000\n",
              "max    19043.138560           1.000000  ...          1.000000    12.000000\n",
              "\n",
              "[8 rows x 17 columns]"
            ]
          },
          "metadata": {
            "tags": []
          },
          "execution_count": 9
        }
      ]
    },
    {
      "cell_type": "code",
      "metadata": {
        "colab": {
          "base_uri": "https://localhost:8080/"
        },
        "id": "YUc50hUOad6a",
        "outputId": "a5500415-9e4e-43a6-9ba5-171978b670ab"
      },
      "source": [
        "raw_data.dtypes"
      ],
      "execution_count": null,
      "outputs": [
        {
          "output_type": "execute_result",
          "data": {
            "text/plain": [
              "CUST_ID                              object\n",
              "BALANCE                             float64\n",
              "BALANCE_FREQUENCY                   float64\n",
              "PURCHASES                           float64\n",
              "ONEOFF_PURCHASES                    float64\n",
              "INSTALLMENTS_PURCHASES              float64\n",
              "CASH_ADVANCE                        float64\n",
              "PURCHASES_FREQUENCY                 float64\n",
              "ONEOFF_PURCHASES_FREQUENCY          float64\n",
              "PURCHASES_INSTALLMENTS_FREQUENCY    float64\n",
              "CASH_ADVANCE_FREQUENCY              float64\n",
              "CASH_ADVANCE_TRX                      int64\n",
              "PURCHASES_TRX                         int64\n",
              "CREDIT_LIMIT                        float64\n",
              "PAYMENTS                            float64\n",
              "MINIMUM_PAYMENTS                    float64\n",
              "PRC_FULL_PAYMENT                    float64\n",
              "TENURE                                int64\n",
              "dtype: object"
            ]
          },
          "metadata": {
            "tags": []
          },
          "execution_count": 10
        }
      ]
    },
    {
      "cell_type": "markdown",
      "metadata": {
        "id": "0l6QxCg-jBMn"
      },
      "source": [
        "### Data Cleaning"
      ]
    },
    {
      "cell_type": "code",
      "metadata": {
        "id": "_0l4S7JuZ6Ed"
      },
      "source": [
        "# we drop column tenure because we are not familiar with this concept\n",
        "raw_data = raw_data.drop('TENURE',axis='columns')"
      ],
      "execution_count": null,
      "outputs": []
    },
    {
      "cell_type": "code",
      "metadata": {
        "colab": {
          "base_uri": "https://localhost:8080/"
        },
        "id": "284eN1-abkOW",
        "outputId": "ad4e108f-4084-4d7b-9d31-528c25ec8233"
      },
      "source": [
        "# How many missing data in this dataset each column\n",
        "var_missing = raw_data.isna().sum()\n",
        "var_missing"
      ],
      "execution_count": null,
      "outputs": [
        {
          "output_type": "execute_result",
          "data": {
            "text/plain": [
              "CUST_ID                               0\n",
              "BALANCE                               0\n",
              "BALANCE_FREQUENCY                     0\n",
              "PURCHASES                             0\n",
              "ONEOFF_PURCHASES                      0\n",
              "INSTALLMENTS_PURCHASES                0\n",
              "CASH_ADVANCE                          0\n",
              "PURCHASES_FREQUENCY                   0\n",
              "ONEOFF_PURCHASES_FREQUENCY            0\n",
              "PURCHASES_INSTALLMENTS_FREQUENCY      0\n",
              "CASH_ADVANCE_FREQUENCY                0\n",
              "CASH_ADVANCE_TRX                      0\n",
              "PURCHASES_TRX                         0\n",
              "CREDIT_LIMIT                          1\n",
              "PAYMENTS                              0\n",
              "MINIMUM_PAYMENTS                    313\n",
              "PRC_FULL_PAYMENT                      0\n",
              "dtype: int64"
            ]
          },
          "metadata": {
            "tags": []
          },
          "execution_count": 12
        }
      ]
    },
    {
      "cell_type": "code",
      "metadata": {
        "colab": {
          "base_uri": "https://localhost:8080/",
          "height": 100
        },
        "id": "4EzM3nVRb7P5",
        "outputId": "ef99323a-7d07-4935-f407-2631fbe34800"
      },
      "source": [
        "# look at missing value entry on credit limit\n",
        "c = raw_data[raw_data['CREDIT_LIMIT'].isna()]\n",
        "c"
      ],
      "execution_count": null,
      "outputs": [
        {
          "output_type": "execute_result",
          "data": {
            "text/html": [
              "<div>\n",
              "<style scoped>\n",
              "    .dataframe tbody tr th:only-of-type {\n",
              "        vertical-align: middle;\n",
              "    }\n",
              "\n",
              "    .dataframe tbody tr th {\n",
              "        vertical-align: top;\n",
              "    }\n",
              "\n",
              "    .dataframe thead th {\n",
              "        text-align: right;\n",
              "    }\n",
              "</style>\n",
              "<table border=\"1\" class=\"dataframe\">\n",
              "  <thead>\n",
              "    <tr style=\"text-align: right;\">\n",
              "      <th></th>\n",
              "      <th>CUST_ID</th>\n",
              "      <th>BALANCE</th>\n",
              "      <th>BALANCE_FREQUENCY</th>\n",
              "      <th>PURCHASES</th>\n",
              "      <th>ONEOFF_PURCHASES</th>\n",
              "      <th>INSTALLMENTS_PURCHASES</th>\n",
              "      <th>CASH_ADVANCE</th>\n",
              "      <th>PURCHASES_FREQUENCY</th>\n",
              "      <th>ONEOFF_PURCHASES_FREQUENCY</th>\n",
              "      <th>PURCHASES_INSTALLMENTS_FREQUENCY</th>\n",
              "      <th>CASH_ADVANCE_FREQUENCY</th>\n",
              "      <th>CASH_ADVANCE_TRX</th>\n",
              "      <th>PURCHASES_TRX</th>\n",
              "      <th>CREDIT_LIMIT</th>\n",
              "      <th>PAYMENTS</th>\n",
              "      <th>MINIMUM_PAYMENTS</th>\n",
              "      <th>PRC_FULL_PAYMENT</th>\n",
              "    </tr>\n",
              "  </thead>\n",
              "  <tbody>\n",
              "    <tr>\n",
              "      <th>5203</th>\n",
              "      <td>C15349</td>\n",
              "      <td>18.400472</td>\n",
              "      <td>0.166667</td>\n",
              "      <td>0.0</td>\n",
              "      <td>0.0</td>\n",
              "      <td>0.0</td>\n",
              "      <td>186.853063</td>\n",
              "      <td>0.0</td>\n",
              "      <td>0.0</td>\n",
              "      <td>0.0</td>\n",
              "      <td>0.166667</td>\n",
              "      <td>1</td>\n",
              "      <td>0</td>\n",
              "      <td>NaN</td>\n",
              "      <td>9.040017</td>\n",
              "      <td>14.418723</td>\n",
              "      <td>0.0</td>\n",
              "    </tr>\n",
              "  </tbody>\n",
              "</table>\n",
              "</div>"
            ],
            "text/plain": [
              "     CUST_ID    BALANCE  ...  MINIMUM_PAYMENTS  PRC_FULL_PAYMENT\n",
              "5203  C15349  18.400472  ...         14.418723               0.0\n",
              "\n",
              "[1 rows x 17 columns]"
            ]
          },
          "metadata": {
            "tags": []
          },
          "execution_count": 13
        }
      ]
    },
    {
      "cell_type": "code",
      "metadata": {
        "colab": {
          "base_uri": "https://localhost:8080/"
        },
        "id": "jVaCDunfcn8I",
        "outputId": "d3797507-91c1-4973-cd24-ee307ea0cae1"
      },
      "source": [
        "# drop this row with missing value entry on credit limit because no information indicate what value it should be\n",
        "df = raw_data.dropna(subset=['CREDIT_LIMIT'])\n",
        "df.shape"
      ],
      "execution_count": null,
      "outputs": [
        {
          "output_type": "execute_result",
          "data": {
            "text/plain": [
              "(8949, 17)"
            ]
          },
          "metadata": {
            "tags": []
          },
          "execution_count": 14
        }
      ]
    },
    {
      "cell_type": "code",
      "metadata": {
        "colab": {
          "base_uri": "https://localhost:8080/",
          "height": 224
        },
        "id": "QJlKm5LNc58V",
        "outputId": "b0224038-61b8-4525-cb55-09a59c78863c"
      },
      "source": [
        "# look at missing value entry on MINIMUM_PAYMENTS\n",
        "m = raw_data[raw_data['MINIMUM_PAYMENTS'].isna()]\n",
        "m.head(5)"
      ],
      "execution_count": null,
      "outputs": [
        {
          "output_type": "execute_result",
          "data": {
            "text/html": [
              "<div>\n",
              "<style scoped>\n",
              "    .dataframe tbody tr th:only-of-type {\n",
              "        vertical-align: middle;\n",
              "    }\n",
              "\n",
              "    .dataframe tbody tr th {\n",
              "        vertical-align: top;\n",
              "    }\n",
              "\n",
              "    .dataframe thead th {\n",
              "        text-align: right;\n",
              "    }\n",
              "</style>\n",
              "<table border=\"1\" class=\"dataframe\">\n",
              "  <thead>\n",
              "    <tr style=\"text-align: right;\">\n",
              "      <th></th>\n",
              "      <th>CUST_ID</th>\n",
              "      <th>BALANCE</th>\n",
              "      <th>BALANCE_FREQUENCY</th>\n",
              "      <th>PURCHASES</th>\n",
              "      <th>ONEOFF_PURCHASES</th>\n",
              "      <th>INSTALLMENTS_PURCHASES</th>\n",
              "      <th>CASH_ADVANCE</th>\n",
              "      <th>PURCHASES_FREQUENCY</th>\n",
              "      <th>ONEOFF_PURCHASES_FREQUENCY</th>\n",
              "      <th>PURCHASES_INSTALLMENTS_FREQUENCY</th>\n",
              "      <th>CASH_ADVANCE_FREQUENCY</th>\n",
              "      <th>CASH_ADVANCE_TRX</th>\n",
              "      <th>PURCHASES_TRX</th>\n",
              "      <th>CREDIT_LIMIT</th>\n",
              "      <th>PAYMENTS</th>\n",
              "      <th>MINIMUM_PAYMENTS</th>\n",
              "      <th>PRC_FULL_PAYMENT</th>\n",
              "    </tr>\n",
              "  </thead>\n",
              "  <tbody>\n",
              "    <tr>\n",
              "      <th>3</th>\n",
              "      <td>C10004</td>\n",
              "      <td>1666.670542</td>\n",
              "      <td>0.636364</td>\n",
              "      <td>1499.0</td>\n",
              "      <td>1499.0</td>\n",
              "      <td>0.0</td>\n",
              "      <td>205.788017</td>\n",
              "      <td>0.083333</td>\n",
              "      <td>0.083333</td>\n",
              "      <td>0.000000</td>\n",
              "      <td>0.083333</td>\n",
              "      <td>1</td>\n",
              "      <td>1</td>\n",
              "      <td>7500.0</td>\n",
              "      <td>0.000000</td>\n",
              "      <td>NaN</td>\n",
              "      <td>0.0</td>\n",
              "    </tr>\n",
              "    <tr>\n",
              "      <th>45</th>\n",
              "      <td>C10047</td>\n",
              "      <td>2242.311686</td>\n",
              "      <td>1.000000</td>\n",
              "      <td>437.0</td>\n",
              "      <td>97.0</td>\n",
              "      <td>340.0</td>\n",
              "      <td>184.648692</td>\n",
              "      <td>0.333333</td>\n",
              "      <td>0.083333</td>\n",
              "      <td>0.333333</td>\n",
              "      <td>0.166667</td>\n",
              "      <td>2</td>\n",
              "      <td>5</td>\n",
              "      <td>2400.0</td>\n",
              "      <td>0.000000</td>\n",
              "      <td>NaN</td>\n",
              "      <td>0.0</td>\n",
              "    </tr>\n",
              "    <tr>\n",
              "      <th>47</th>\n",
              "      <td>C10049</td>\n",
              "      <td>3910.111237</td>\n",
              "      <td>1.000000</td>\n",
              "      <td>0.0</td>\n",
              "      <td>0.0</td>\n",
              "      <td>0.0</td>\n",
              "      <td>1980.873201</td>\n",
              "      <td>0.000000</td>\n",
              "      <td>0.000000</td>\n",
              "      <td>0.000000</td>\n",
              "      <td>0.500000</td>\n",
              "      <td>7</td>\n",
              "      <td>0</td>\n",
              "      <td>4200.0</td>\n",
              "      <td>0.000000</td>\n",
              "      <td>NaN</td>\n",
              "      <td>0.0</td>\n",
              "    </tr>\n",
              "    <tr>\n",
              "      <th>54</th>\n",
              "      <td>C10056</td>\n",
              "      <td>6.660517</td>\n",
              "      <td>0.636364</td>\n",
              "      <td>310.0</td>\n",
              "      <td>0.0</td>\n",
              "      <td>310.0</td>\n",
              "      <td>0.000000</td>\n",
              "      <td>0.666667</td>\n",
              "      <td>0.000000</td>\n",
              "      <td>0.666667</td>\n",
              "      <td>0.000000</td>\n",
              "      <td>0</td>\n",
              "      <td>8</td>\n",
              "      <td>1000.0</td>\n",
              "      <td>417.016763</td>\n",
              "      <td>NaN</td>\n",
              "      <td>0.0</td>\n",
              "    </tr>\n",
              "    <tr>\n",
              "      <th>55</th>\n",
              "      <td>C10057</td>\n",
              "      <td>1311.995984</td>\n",
              "      <td>1.000000</td>\n",
              "      <td>1283.9</td>\n",
              "      <td>1283.9</td>\n",
              "      <td>0.0</td>\n",
              "      <td>0.000000</td>\n",
              "      <td>0.250000</td>\n",
              "      <td>0.250000</td>\n",
              "      <td>0.000000</td>\n",
              "      <td>0.000000</td>\n",
              "      <td>0</td>\n",
              "      <td>6</td>\n",
              "      <td>6000.0</td>\n",
              "      <td>0.000000</td>\n",
              "      <td>NaN</td>\n",
              "      <td>0.0</td>\n",
              "    </tr>\n",
              "  </tbody>\n",
              "</table>\n",
              "</div>"
            ],
            "text/plain": [
              "   CUST_ID      BALANCE  ...  MINIMUM_PAYMENTS  PRC_FULL_PAYMENT\n",
              "3   C10004  1666.670542  ...               NaN               0.0\n",
              "45  C10047  2242.311686  ...               NaN               0.0\n",
              "47  C10049  3910.111237  ...               NaN               0.0\n",
              "54  C10056     6.660517  ...               NaN               0.0\n",
              "55  C10057  1311.995984  ...               NaN               0.0\n",
              "\n",
              "[5 rows x 17 columns]"
            ]
          },
          "metadata": {
            "tags": []
          },
          "execution_count": 15
        }
      ]
    },
    {
      "cell_type": "code",
      "metadata": {
        "colab": {
          "base_uri": "https://localhost:8080/"
        },
        "id": "gtqxL_h4duZc",
        "outputId": "e11bcf22-e8e8-40bc-cc27-e15c1fef0120"
      },
      "source": [
        "# drop these rows with missing value entry on MINIMUM_PAYMENTS because no information indicate what value it should be\n",
        "df = df.dropna(subset=['MINIMUM_PAYMENTS'])\n",
        "df.shape"
      ],
      "execution_count": null,
      "outputs": [
        {
          "output_type": "execute_result",
          "data": {
            "text/plain": [
              "(8636, 17)"
            ]
          },
          "metadata": {
            "tags": []
          },
          "execution_count": 16
        }
      ]
    },
    {
      "cell_type": "code",
      "metadata": {
        "colab": {
          "base_uri": "https://localhost:8080/"
        },
        "id": "CMAPZprReate",
        "outputId": "e8acc175-8781-40f9-aae1-6cc780943b41"
      },
      "source": [
        "# check if there is any missing value left\n",
        "df.isna().sum().sum() # so there is no missing value left"
      ],
      "execution_count": null,
      "outputs": [
        {
          "output_type": "execute_result",
          "data": {
            "text/plain": [
              "0"
            ]
          },
          "metadata": {
            "tags": []
          },
          "execution_count": 17
        }
      ]
    },
    {
      "cell_type": "code",
      "metadata": {
        "id": "oiyxxVHSgDFy"
      },
      "source": [
        "# customer id is not useful for our analysis so drop it\n",
        "df = df.drop('CUST_ID', axis=1)"
      ],
      "execution_count": null,
      "outputs": []
    },
    {
      "cell_type": "markdown",
      "metadata": {
        "id": "Le1b_zm1bi3V"
      },
      "source": [
        "## Data Visualization (Exploratory Descriptive Analysis)"
      ]
    },
    {
      "cell_type": "code",
      "metadata": {
        "colab": {
          "base_uri": "https://localhost:8080/",
          "height": 1000
        },
        "id": "VCBkBD3GbkYj",
        "outputId": "cccd903f-404b-4257-8241-6c3ca8a12ee8"
      },
      "source": [
        "# correlation\n",
        "correlation = df.corr()\n",
        "plt.figure(figsize = (15, 15))\n",
        "sns.heatmap(correlation, annot=True)\n",
        "plt.show()"
      ],
      "execution_count": null,
      "outputs": [
        {
          "output_type": "display_data",
          "data": {
            "image/png": "[encoded data removed]",
            "text/plain": [
              "<Figure size 1080x1080 with 2 Axes>"
            ]
          },
          "metadata": {
            "tags": []
          }
        }
      ]
    },
    {
      "cell_type": "markdown",
      "metadata": {
        "id": "MFD93E7Tbtvl"
      },
      "source": [
        "## Data Preprocessing: "
      ]
    },
    {
      "cell_type": "markdown",
      "metadata": {
        "id": "WvC4OoJu0UAI"
      },
      "source": [
        "Normalize Data"
      ]
    },
    {
      "cell_type": "code",
      "metadata": {
        "id": "JiRHXMrJ0G1S"
      },
      "source": [
        "scale_train = StandardScaler().fit_transform(df)\n",
        "normalize_train = normalize(scale_train)\n",
        "normalize_train = pd.DataFrame(normalize_train)\n"
      ],
      "execution_count": null,
      "outputs": []
    },
    {
      "cell_type": "markdown",
      "metadata": {
        "id": "nN7c0XfW0ngX"
      },
      "source": [
        "Using PCA to reduce Dimensionality"
      ]
    },
    {
      "cell_type": "code",
      "metadata": {
        "colab": {
          "base_uri": "https://localhost:8080/",
          "height": 282
        },
        "id": "JuE7xnKcnOqH",
        "outputId": "7091dba9-e2ce-42ec-d2ab-41af0d932712"
      },
      "source": [
        "# explained variance for all 16 principal components\n",
        "pca = PCA(n_components=16)\n",
        "pca.fit(normalize_train)\n",
        "plt.plot(pca.explained_variance_)"
      ],
      "execution_count": null,
      "outputs": [
        {
          "output_type": "execute_result",
          "data": {
            "text/plain": [
              "[<matplotlib.lines.Line2D at 0x7f4b57a3a550>]"
            ]
          },
          "metadata": {
            "tags": []
          },
          "execution_count": 22
        },
        {
          "output_type": "display_data",
          "data": {
            "image/png": "[encoded data removed]",
            "text/plain": [
              "<Figure size 432x288 with 1 Axes>"
            ]
          },
          "metadata": {
            "tags": []
          }
        }
      ]
    },
    {
      "cell_type": "code",
      "metadata": {
        "colab": {
          "base_uri": "https://localhost:8080/",
          "height": 419
        },
        "id": "4dPTEsx10G3K",
        "outputId": "89b736a6-6361-42e3-a7e8-07f5c7c0c674"
      },
      "source": [
        "# choose 2 largest principal components\n",
        "pca2_train = PCA(n_components = 2).fit_transform(normalize_train)\n",
        "pca2_train = pd.DataFrame(pca2_train)\n",
        "pca2_train"
      ],
      "execution_count": null,
      "outputs": [
        {
          "output_type": "execute_result",
          "data": {
            "text/html": [
              "<div>\n",
              "<style scoped>\n",
              "    .dataframe tbody tr th:only-of-type {\n",
              "        vertical-align: middle;\n",
              "    }\n",
              "\n",
              "    .dataframe tbody tr th {\n",
              "        vertical-align: top;\n",
              "    }\n",
              "\n",
              "    .dataframe thead th {\n",
              "        text-align: right;\n",
              "    }\n",
              "</style>\n",
              "<table border=\"1\" class=\"dataframe\">\n",
              "  <thead>\n",
              "    <tr style=\"text-align: right;\">\n",
              "      <th></th>\n",
              "      <th>0</th>\n",
              "      <th>1</th>\n",
              "    </tr>\n",
              "  </thead>\n",
              "  <tbody>\n",
              "    <tr>\n",
              "      <th>0</th>\n",
              "      <td>-0.479014</td>\n",
              "      <td>-0.690871</td>\n",
              "    </tr>\n",
              "    <tr>\n",
              "      <th>1</th>\n",
              "      <td>-0.537057</td>\n",
              "      <td>0.537616</td>\n",
              "    </tr>\n",
              "    <tr>\n",
              "      <th>2</th>\n",
              "      <td>0.323641</td>\n",
              "      <td>0.285197</td>\n",
              "    </tr>\n",
              "    <tr>\n",
              "      <th>3</th>\n",
              "      <td>-0.561279</td>\n",
              "      <td>-0.497586</td>\n",
              "    </tr>\n",
              "    <tr>\n",
              "      <th>4</th>\n",
              "      <td>0.334755</td>\n",
              "      <td>-0.242160</td>\n",
              "    </tr>\n",
              "    <tr>\n",
              "      <th>...</th>\n",
              "      <td>...</td>\n",
              "      <td>...</td>\n",
              "    </tr>\n",
              "    <tr>\n",
              "      <th>8631</th>\n",
              "      <td>-0.377918</td>\n",
              "      <td>-0.593132</td>\n",
              "    </tr>\n",
              "    <tr>\n",
              "      <th>8632</th>\n",
              "      <td>0.562020</td>\n",
              "      <td>-0.497938</td>\n",
              "    </tr>\n",
              "    <tr>\n",
              "      <th>8633</th>\n",
              "      <td>0.360219</td>\n",
              "      <td>-0.712217</td>\n",
              "    </tr>\n",
              "    <tr>\n",
              "      <th>8634</th>\n",
              "      <td>-0.617521</td>\n",
              "      <td>-0.521598</td>\n",
              "    </tr>\n",
              "    <tr>\n",
              "      <th>8635</th>\n",
              "      <td>-0.010448</td>\n",
              "      <td>0.011171</td>\n",
              "    </tr>\n",
              "  </tbody>\n",
              "</table>\n",
              "<p>8636 rows × 2 columns</p>\n",
              "</div>"
            ],
            "text/plain": [
              "             0         1\n",
              "0    -0.479014 -0.690871\n",
              "1    -0.537057  0.537616\n",
              "2     0.323641  0.285197\n",
              "3    -0.561279 -0.497586\n",
              "4     0.334755 -0.242160\n",
              "...        ...       ...\n",
              "8631 -0.377918 -0.593132\n",
              "8632  0.562020 -0.497938\n",
              "8633  0.360219 -0.712217\n",
              "8634 -0.617521 -0.521598\n",
              "8635 -0.010448  0.011171\n",
              "\n",
              "[8636 rows x 2 columns]"
            ]
          },
          "metadata": {
            "tags": []
          },
          "execution_count": 23
        }
      ]
    },
    {
      "cell_type": "markdown",
      "metadata": {
        "id": "aO3bHJ_db4O-"
      },
      "source": [
        "## Algorithms list: the ones we wrote vs others already in packages"
      ]
    },
    {
      "cell_type": "markdown",
      "metadata": {
        "id": "T3IdAMeLjxU2"
      },
      "source": [
        "**No. 1 : k - means clustering definition**"
      ]
    },
    {
      "cell_type": "code",
      "metadata": {
        "id": "F35_8y2m5DMf"
      },
      "source": [
        "class K_Means(object):\n",
        "    \n",
        "    def __init__(self, k=2, tolerance=0.0001, max_iter=300):\n",
        "        self.k_ = k\n",
        "        self.tolerance_ = tolerance\n",
        "        self.max_iter_ = max_iter\n",
        "\n",
        "    def fit(self, data):\n",
        "        self.centers_ = {}\n",
        "        for i in range(self.k_):\n",
        "            self.centers_[i] = data[i]\n",
        "\n",
        "        for i in range(self.max_iter_):\n",
        "            self.clf_ = {}\n",
        "            self.labels = []\n",
        "            for i in range(self.k_):\n",
        "                self.clf_[i] = []\n",
        "            # print(\"center:\",self.centers_)\n",
        "            for feature in data:\n",
        "                # distances = [np.linalg.norm(feature-self.centers[center]) for center in self.centers]\n",
        "                distances = []\n",
        "                for center in self.centers_:\n",
        "                    \n",
        "                    # np.sqrt(np.sum((features-self.centers_[center])**2))\n",
        "                    distances.append(np.linalg.norm(feature - self.centers_[center]))\n",
        "                classification = distances.index(min(distances))\n",
        "                self.labels.append(classification)\n",
        "                self.clf_[classification].append(feature)\n",
        "\n",
        "            # print(\"classification:\",self.clf_)\n",
        "            prev_centers = dict(self.centers_)\n",
        "            for c in self.clf_:\n",
        "                self.centers_[c] = np.average(self.clf_[c], axis=0)\n",
        "\n",
        "            # centroid error tolerance\n",
        "            optimized = True\n",
        "            for center in self.centers_:\n",
        "                org_centers = prev_centers[center]\n",
        "                cur_centers = self.centers_[center]\n",
        "                if np.sum((cur_centers - org_centers) / org_centers * 100.0) > self.tolerance_:\n",
        "                    optimized = False\n",
        "            if optimized:\n",
        "                break\n",
        "\n",
        "    def predict(self, p_data):\n",
        "        distances = [np.linalg.norm(p_data - self.centers_[center]) for center in self.centers_]\n",
        "        index = distances.index(min(distances))\n",
        "        return index"
      ],
      "execution_count": null,
      "outputs": []
    },
    {
      "cell_type": "code",
      "metadata": {
        "colab": {
          "background_save": true,
          "base_uri": "https://localhost:8080/",
          "height": 282
        },
        "id": "uDrAByUeb60Y",
        "outputId": "84240675-6433-47f7-80b5-251e74e9261f"
      },
      "source": [
        "\n",
        "\n",
        "if __name__ == '__main__':\n",
        "    x = np.array(pca2_train)\n",
        "    k_means = K_Means(k=2) # 2 center\n",
        "    k_means.fit(x) # classfication\n",
        "    print(k_means.centers_)\n",
        "    for center in k_means.centers_:\n",
        "        pyplot.scatter(k_means.centers_[center][0], k_means.centers_[center][1], marker='*', s=150)\n",
        "\n",
        "    for cat in k_means.clf_:\n",
        "        for point in k_means.clf_[cat]:\n",
        "            pyplot.scatter(point[0], point[1], c=('r' if cat == 0 else 'b'))\n",
        "\n",
        "    #predict = np.array(pca2_train)\n",
        "    #for feature in predict:\n",
        "    #    cat = k_means.predict(predict)\n",
        "    #    pyplot.scatter(feature[0], feature[1], c=('r' if cat == 0 else 'b'), marker='x')\n",
        "\n",
        "    pyplot.show()"
      ],
      "execution_count": null,
      "outputs": [
        {
          "output_type": "stream",
          "text": [
            "{0: array([ 0.00570025, -0.36399909]), 1: array([-0.00586905,  0.37477791])}\n"
          ],
          "name": "stdout"
        },
        {
          "output_type": "display_data",
          "data": {
            "image/png": "[encoded data removed]",
            "text/plain": [
              "<Figure size 432x288 with 1 Axes>"
            ]
          },
          "metadata": {
            "tags": []
          }
        }
      ]
    },
    {
      "cell_type": "code",
      "metadata": {
        "colab": {
          "background_save": true,
          "base_uri": "https://localhost:8080/",
          "height": 282
        },
        "id": "a_s7ID_b0mMM",
        "outputId": "47df6b68-a392-4668-96cd-1ec922a1ae3c"
      },
      "source": [
        "def color(cat):\n",
        "  if cat == 0:\n",
        "    color = 'r'\n",
        "  elif cat ==1:\n",
        "    color = 'b'\n",
        "  elif cat == 2:\n",
        "    color = 'green'\n",
        "  elif cat == 3:\n",
        "    color = 'yellow'\n",
        "  elif cat == 4:\n",
        "    color = 'orange'\n",
        "  return color \n",
        "\n",
        "if __name__ == '__main__':\n",
        "    x = np.array(pca2_train)\n",
        "    k_means = K_Means(k=3) # 3 center\n",
        "    k_means.fit(x) # classfication\n",
        "    print(k_means.centers_)\n",
        "    for center in k_means.centers_:\n",
        "        pyplot.scatter(k_means.centers_[center][0], k_means.centers_[center][1], marker='*', s=150)\n",
        "\n",
        "    for cat in k_means.clf_:\n",
        "        for point in k_means.clf_[cat]:\n",
        "            pyplot.scatter(point[0], point[1], c=color(cat))\n",
        "\n",
        "    #predict = np.array(pca2_train)\n",
        "    #for feature in predict:\n",
        "    #    cat = k_means.predict(predict)\n",
        "    #    pyplot.scatter(feature[0], feature[1], c=color(cat), marker='x')\n",
        "\n",
        "    pyplot.show()"
      ],
      "execution_count": null,
      "outputs": [
        {
          "output_type": "stream",
          "text": [
            "{0: array([-0.3615474 , -0.41719992]), 1: array([-0.55264796,  0.40880455]), 2: array([0.50931555, 0.06042931])}\n"
          ],
          "name": "stdout"
        },
        {
          "output_type": "display_data",
          "data": {
            "image/png": "[encoded data removed]",
            "text/plain": [
              "<Figure size 432x288 with 1 Axes>"
            ]
          },
          "metadata": {
            "tags": []
          }
        }
      ]
    },
    {
      "cell_type": "code",
      "metadata": {
        "colab": {
          "background_save": true
        },
        "id": "fCMF4yY0tcFH",
        "outputId": "08e2ae4a-cee5-4bbe-9aff-f7ca047c4769"
      },
      "source": [
        "def color(cat):\n",
        "  if cat == 0:\n",
        "    color = 'r'\n",
        "  elif cat ==1:\n",
        "    color = 'b'\n",
        "  elif cat == 2:\n",
        "    color = 'green'\n",
        "  elif cat == 3:\n",
        "    color = 'yellow'\n",
        "  elif cat == 4:\n",
        "    color = 'orange'\n",
        "  return color \n",
        "  \n",
        "if __name__ == '__main__':\n",
        "    x = np.array(pca2_train)\n",
        "    k_means = K_Means(k=5) # 5 center\n",
        "    k_means.fit(x) # classfication\n",
        "    print(k_means.centers_)\n",
        "    for center in k_means.centers_:\n",
        "        pyplot.scatter(k_means.centers_[center][0], k_means.centers_[center][1], marker='*', s=150)\n",
        "\n",
        "    for cat in k_means.clf_:\n",
        "        for point in k_means.clf_[cat]:\n",
        "        \n",
        "            pyplot.scatter(point[0], point[1], c=color(cat))\n",
        "\n",
        "    #predict = np.array(pca2_train)\n",
        "    #for feature in predict:\n",
        "    #    cat = k_means.predict(predict)\n",
        "    #    pyplot.scatter(feature[0], feature[1], c=color(cat), marker='x')\n",
        "\n",
        "    pyplot.show()"
      ],
      "execution_count": null,
      "outputs": [
        {
          "output_type": "stream",
          "text": [
            "{0: array([-0.19114555, -0.43720191]), 1: array([-0.3863919 ,  0.61041219]), 2: array([0.5679365 , 0.36497325]), 3: array([-0.69299663, -0.10745025]), 4: array([ 0.548676  , -0.28680368])}\n"
          ],
          "name": "stdout"
        },
        {
          "output_type": "display_data",
          "data": {
            "image/png": "[encoded data removed]",
            "text/plain": [
              "<Figure size 432x288 with 1 Axes>"
            ]
          },
          "metadata": {
            "tags": []
          }
        }
      ]
    },
    {
      "cell_type": "markdown",
      "metadata": {
        "id": "5SXEfHvwj2rD"
      },
      "source": [
        "**No. 2: Spectral Clustering**"
      ]
    },
    {
      "cell_type": "markdown",
      "metadata": {
        "id": "jPr2PZa1AJjZ"
      },
      "source": [
        "number of clusters = 2, using rbf"
      ]
    },
    {
      "cell_type": "code",
      "metadata": {
        "colab": {
          "background_save": true
        },
        "id": "QTTuW-l7zVjZ"
      },
      "source": [
        "SCClustering_rbf = SpectralClustering(n_clusters = 2,affinity='rbf',random_state=0).fit(normalize_train)\n",
        "SClabels_rbf = SCClustering_rbf.labels_"
      ],
      "execution_count": null,
      "outputs": []
    },
    {
      "cell_type": "code",
      "metadata": {
        "colab": {
          "background_save": true
        },
        "id": "cbACpP3hymph"
      },
      "source": [
        "SCClusters_rbf=pd.concat([df,pd.DataFrame({'cluster':SClabels_rbf})],axis=1)"
      ],
      "execution_count": null,
      "outputs": []
    },
    {
      "cell_type": "code",
      "metadata": {
        "colab": {
          "background_save": true
        },
        "id": "Jo3acKyAymr2",
        "outputId": "b44851fb-9d1d-4199-95ec-e5571ca35cce"
      },
      "source": [
        "SCClusters_rbf.loc[SCClusters_rbf['cluster'] == 0]"
      ],
      "execution_count": null,
      "outputs": [
        {
          "output_type": "execute_result",
          "data": {
            "text/html": [
              "<div>\n",
              "<style scoped>\n",
              "    .dataframe tbody tr th:only-of-type {\n",
              "        vertical-align: middle;\n",
              "    }\n",
              "\n",
              "    .dataframe tbody tr th {\n",
              "        vertical-align: top;\n",
              "    }\n",
              "\n",
              "    .dataframe thead th {\n",
              "        text-align: right;\n",
              "    }\n",
              "</style>\n",
              "<table border=\"1\" class=\"dataframe\">\n",
              "  <thead>\n",
              "    <tr style=\"text-align: right;\">\n",
              "      <th></th>\n",
              "      <th>BALANCE</th>\n",
              "      <th>BALANCE_FREQUENCY</th>\n",
              "      <th>PURCHASES</th>\n",
              "      <th>ONEOFF_PURCHASES</th>\n",
              "      <th>INSTALLMENTS_PURCHASES</th>\n",
              "      <th>CASH_ADVANCE</th>\n",
              "      <th>PURCHASES_FREQUENCY</th>\n",
              "      <th>ONEOFF_PURCHASES_FREQUENCY</th>\n",
              "      <th>PURCHASES_INSTALLMENTS_FREQUENCY</th>\n",
              "      <th>CASH_ADVANCE_FREQUENCY</th>\n",
              "      <th>CASH_ADVANCE_TRX</th>\n",
              "      <th>PURCHASES_TRX</th>\n",
              "      <th>CREDIT_LIMIT</th>\n",
              "      <th>PAYMENTS</th>\n",
              "      <th>MINIMUM_PAYMENTS</th>\n",
              "      <th>PRC_FULL_PAYMENT</th>\n",
              "      <th>cluster</th>\n",
              "    </tr>\n",
              "  </thead>\n",
              "  <tbody>\n",
              "    <tr>\n",
              "      <th>0</th>\n",
              "      <td>40.900749</td>\n",
              "      <td>0.818182</td>\n",
              "      <td>95.40</td>\n",
              "      <td>0.00</td>\n",
              "      <td>95.40</td>\n",
              "      <td>0.000000</td>\n",
              "      <td>0.166667</td>\n",
              "      <td>0.000000</td>\n",
              "      <td>0.083333</td>\n",
              "      <td>0.000000</td>\n",
              "      <td>0.0</td>\n",
              "      <td>2.0</td>\n",
              "      <td>1000.0</td>\n",
              "      <td>201.802084</td>\n",
              "      <td>139.509787</td>\n",
              "      <td>0.000000</td>\n",
              "      <td>0.0</td>\n",
              "    </tr>\n",
              "    <tr>\n",
              "      <th>1</th>\n",
              "      <td>3202.467416</td>\n",
              "      <td>0.909091</td>\n",
              "      <td>0.00</td>\n",
              "      <td>0.00</td>\n",
              "      <td>0.00</td>\n",
              "      <td>6442.945483</td>\n",
              "      <td>0.000000</td>\n",
              "      <td>0.000000</td>\n",
              "      <td>0.000000</td>\n",
              "      <td>0.250000</td>\n",
              "      <td>4.0</td>\n",
              "      <td>0.0</td>\n",
              "      <td>7000.0</td>\n",
              "      <td>4103.032597</td>\n",
              "      <td>1072.340217</td>\n",
              "      <td>0.222222</td>\n",
              "      <td>0.0</td>\n",
              "    </tr>\n",
              "    <tr>\n",
              "      <th>3</th>\n",
              "      <td>NaN</td>\n",
              "      <td>NaN</td>\n",
              "      <td>NaN</td>\n",
              "      <td>NaN</td>\n",
              "      <td>NaN</td>\n",
              "      <td>NaN</td>\n",
              "      <td>NaN</td>\n",
              "      <td>NaN</td>\n",
              "      <td>NaN</td>\n",
              "      <td>NaN</td>\n",
              "      <td>NaN</td>\n",
              "      <td>NaN</td>\n",
              "      <td>NaN</td>\n",
              "      <td>NaN</td>\n",
              "      <td>NaN</td>\n",
              "      <td>NaN</td>\n",
              "      <td>0.0</td>\n",
              "    </tr>\n",
              "    <tr>\n",
              "      <th>7</th>\n",
              "      <td>1823.652743</td>\n",
              "      <td>1.000000</td>\n",
              "      <td>436.20</td>\n",
              "      <td>0.00</td>\n",
              "      <td>436.20</td>\n",
              "      <td>0.000000</td>\n",
              "      <td>1.000000</td>\n",
              "      <td>0.000000</td>\n",
              "      <td>1.000000</td>\n",
              "      <td>0.000000</td>\n",
              "      <td>0.0</td>\n",
              "      <td>12.0</td>\n",
              "      <td>2300.0</td>\n",
              "      <td>679.065082</td>\n",
              "      <td>532.033990</td>\n",
              "      <td>0.000000</td>\n",
              "      <td>0.0</td>\n",
              "    </tr>\n",
              "    <tr>\n",
              "      <th>8</th>\n",
              "      <td>1014.926473</td>\n",
              "      <td>1.000000</td>\n",
              "      <td>861.49</td>\n",
              "      <td>661.49</td>\n",
              "      <td>200.00</td>\n",
              "      <td>0.000000</td>\n",
              "      <td>0.333333</td>\n",
              "      <td>0.083333</td>\n",
              "      <td>0.250000</td>\n",
              "      <td>0.000000</td>\n",
              "      <td>0.0</td>\n",
              "      <td>5.0</td>\n",
              "      <td>7000.0</td>\n",
              "      <td>688.278568</td>\n",
              "      <td>311.963409</td>\n",
              "      <td>0.000000</td>\n",
              "      <td>0.0</td>\n",
              "    </tr>\n",
              "    <tr>\n",
              "      <th>...</th>\n",
              "      <td>...</td>\n",
              "      <td>...</td>\n",
              "      <td>...</td>\n",
              "      <td>...</td>\n",
              "      <td>...</td>\n",
              "      <td>...</td>\n",
              "      <td>...</td>\n",
              "      <td>...</td>\n",
              "      <td>...</td>\n",
              "      <td>...</td>\n",
              "      <td>...</td>\n",
              "      <td>...</td>\n",
              "      <td>...</td>\n",
              "      <td>...</td>\n",
              "      <td>...</td>\n",
              "      <td>...</td>\n",
              "      <td>...</td>\n",
              "    </tr>\n",
              "    <tr>\n",
              "      <th>8627</th>\n",
              "      <td>342.361553</td>\n",
              "      <td>1.000000</td>\n",
              "      <td>258.50</td>\n",
              "      <td>83.48</td>\n",
              "      <td>175.02</td>\n",
              "      <td>225.819508</td>\n",
              "      <td>0.666667</td>\n",
              "      <td>0.166667</td>\n",
              "      <td>0.500000</td>\n",
              "      <td>0.083333</td>\n",
              "      <td>3.0</td>\n",
              "      <td>10.0</td>\n",
              "      <td>1000.0</td>\n",
              "      <td>686.449219</td>\n",
              "      <td>282.368125</td>\n",
              "      <td>0.083333</td>\n",
              "      <td>0.0</td>\n",
              "    </tr>\n",
              "    <tr>\n",
              "      <th>8629</th>\n",
              "      <td>115.611030</td>\n",
              "      <td>1.000000</td>\n",
              "      <td>379.32</td>\n",
              "      <td>0.00</td>\n",
              "      <td>379.32</td>\n",
              "      <td>0.000000</td>\n",
              "      <td>1.000000</td>\n",
              "      <td>0.000000</td>\n",
              "      <td>1.000000</td>\n",
              "      <td>0.000000</td>\n",
              "      <td>0.0</td>\n",
              "      <td>12.0</td>\n",
              "      <td>1000.0</td>\n",
              "      <td>281.152056</td>\n",
              "      <td>179.901711</td>\n",
              "      <td>0.000000</td>\n",
              "      <td>0.0</td>\n",
              "    </tr>\n",
              "    <tr>\n",
              "      <th>8631</th>\n",
              "      <td>553.901465</td>\n",
              "      <td>1.000000</td>\n",
              "      <td>458.76</td>\n",
              "      <td>0.00</td>\n",
              "      <td>458.76</td>\n",
              "      <td>0.000000</td>\n",
              "      <td>1.000000</td>\n",
              "      <td>0.000000</td>\n",
              "      <td>1.000000</td>\n",
              "      <td>0.000000</td>\n",
              "      <td>0.0</td>\n",
              "      <td>12.0</td>\n",
              "      <td>1000.0</td>\n",
              "      <td>157.770746</td>\n",
              "      <td>257.530999</td>\n",
              "      <td>0.000000</td>\n",
              "      <td>0.0</td>\n",
              "    </tr>\n",
              "    <tr>\n",
              "      <th>8634</th>\n",
              "      <td>683.188651</td>\n",
              "      <td>1.000000</td>\n",
              "      <td>85.00</td>\n",
              "      <td>85.00</td>\n",
              "      <td>0.00</td>\n",
              "      <td>0.000000</td>\n",
              "      <td>0.083333</td>\n",
              "      <td>0.083333</td>\n",
              "      <td>0.000000</td>\n",
              "      <td>0.000000</td>\n",
              "      <td>0.0</td>\n",
              "      <td>1.0</td>\n",
              "      <td>3000.0</td>\n",
              "      <td>447.237766</td>\n",
              "      <td>214.535254</td>\n",
              "      <td>0.000000</td>\n",
              "      <td>0.0</td>\n",
              "    </tr>\n",
              "    <tr>\n",
              "      <th>8635</th>\n",
              "      <td>4.107485</td>\n",
              "      <td>0.181818</td>\n",
              "      <td>52.50</td>\n",
              "      <td>0.00</td>\n",
              "      <td>52.50</td>\n",
              "      <td>0.000000</td>\n",
              "      <td>0.166667</td>\n",
              "      <td>0.000000</td>\n",
              "      <td>0.083333</td>\n",
              "      <td>0.000000</td>\n",
              "      <td>0.0</td>\n",
              "      <td>2.0</td>\n",
              "      <td>500.0</td>\n",
              "      <td>82.529481</td>\n",
              "      <td>163.602544</td>\n",
              "      <td>0.000000</td>\n",
              "      <td>0.0</td>\n",
              "    </tr>\n",
              "  </tbody>\n",
              "</table>\n",
              "<p>4485 rows × 17 columns</p>\n",
              "</div>"
            ],
            "text/plain": [
              "          BALANCE  BALANCE_FREQUENCY  ...  PRC_FULL_PAYMENT  cluster\n",
              "0       40.900749           0.818182  ...          0.000000      0.0\n",
              "1     3202.467416           0.909091  ...          0.222222      0.0\n",
              "3             NaN                NaN  ...               NaN      0.0\n",
              "7     1823.652743           1.000000  ...          0.000000      0.0\n",
              "8     1014.926473           1.000000  ...          0.000000      0.0\n",
              "...           ...                ...  ...               ...      ...\n",
              "8627   342.361553           1.000000  ...          0.083333      0.0\n",
              "8629   115.611030           1.000000  ...          0.000000      0.0\n",
              "8631   553.901465           1.000000  ...          0.000000      0.0\n",
              "8634   683.188651           1.000000  ...          0.000000      0.0\n",
              "8635     4.107485           0.181818  ...          0.000000      0.0\n",
              "\n",
              "[4485 rows x 17 columns]"
            ]
          },
          "metadata": {
            "tags": []
          },
          "execution_count": 0
        }
      ]
    },
    {
      "cell_type": "code",
      "metadata": {
        "colab": {
          "background_save": true
        },
        "id": "3uIiTF7z1oq8",
        "outputId": "9e110913-4314-40f4-fae9-26f0d48f5db1"
      },
      "source": [
        "SCClusters_rbf.loc[SCClusters_rbf['cluster'] == 1]"
      ],
      "execution_count": null,
      "outputs": [
        {
          "output_type": "execute_result",
          "data": {
            "text/html": [
              "<div>\n",
              "<style scoped>\n",
              "    .dataframe tbody tr th:only-of-type {\n",
              "        vertical-align: middle;\n",
              "    }\n",
              "\n",
              "    .dataframe tbody tr th {\n",
              "        vertical-align: top;\n",
              "    }\n",
              "\n",
              "    .dataframe thead th {\n",
              "        text-align: right;\n",
              "    }\n",
              "</style>\n",
              "<table border=\"1\" class=\"dataframe\">\n",
              "  <thead>\n",
              "    <tr style=\"text-align: right;\">\n",
              "      <th></th>\n",
              "      <th>BALANCE</th>\n",
              "      <th>BALANCE_FREQUENCY</th>\n",
              "      <th>PURCHASES</th>\n",
              "      <th>ONEOFF_PURCHASES</th>\n",
              "      <th>INSTALLMENTS_PURCHASES</th>\n",
              "      <th>CASH_ADVANCE</th>\n",
              "      <th>PURCHASES_FREQUENCY</th>\n",
              "      <th>ONEOFF_PURCHASES_FREQUENCY</th>\n",
              "      <th>PURCHASES_INSTALLMENTS_FREQUENCY</th>\n",
              "      <th>CASH_ADVANCE_FREQUENCY</th>\n",
              "      <th>CASH_ADVANCE_TRX</th>\n",
              "      <th>PURCHASES_TRX</th>\n",
              "      <th>CREDIT_LIMIT</th>\n",
              "      <th>PAYMENTS</th>\n",
              "      <th>MINIMUM_PAYMENTS</th>\n",
              "      <th>PRC_FULL_PAYMENT</th>\n",
              "      <th>cluster</th>\n",
              "    </tr>\n",
              "  </thead>\n",
              "  <tbody>\n",
              "    <tr>\n",
              "      <th>2</th>\n",
              "      <td>2495.148862</td>\n",
              "      <td>1.000000</td>\n",
              "      <td>773.17</td>\n",
              "      <td>773.17</td>\n",
              "      <td>0.00</td>\n",
              "      <td>0.000000</td>\n",
              "      <td>1.000000</td>\n",
              "      <td>1.000000</td>\n",
              "      <td>0.000000</td>\n",
              "      <td>0.000000</td>\n",
              "      <td>0.0</td>\n",
              "      <td>12.0</td>\n",
              "      <td>7500.0</td>\n",
              "      <td>622.066742</td>\n",
              "      <td>627.284787</td>\n",
              "      <td>0.000</td>\n",
              "      <td>1.0</td>\n",
              "    </tr>\n",
              "    <tr>\n",
              "      <th>4</th>\n",
              "      <td>817.714335</td>\n",
              "      <td>1.000000</td>\n",
              "      <td>16.00</td>\n",
              "      <td>16.00</td>\n",
              "      <td>0.00</td>\n",
              "      <td>0.000000</td>\n",
              "      <td>0.083333</td>\n",
              "      <td>0.083333</td>\n",
              "      <td>0.000000</td>\n",
              "      <td>0.000000</td>\n",
              "      <td>0.0</td>\n",
              "      <td>1.0</td>\n",
              "      <td>1200.0</td>\n",
              "      <td>678.334763</td>\n",
              "      <td>244.791237</td>\n",
              "      <td>0.000</td>\n",
              "      <td>1.0</td>\n",
              "    </tr>\n",
              "    <tr>\n",
              "      <th>5</th>\n",
              "      <td>1809.828751</td>\n",
              "      <td>1.000000</td>\n",
              "      <td>1333.28</td>\n",
              "      <td>0.00</td>\n",
              "      <td>1333.28</td>\n",
              "      <td>0.000000</td>\n",
              "      <td>0.666667</td>\n",
              "      <td>0.000000</td>\n",
              "      <td>0.583333</td>\n",
              "      <td>0.000000</td>\n",
              "      <td>0.0</td>\n",
              "      <td>8.0</td>\n",
              "      <td>1800.0</td>\n",
              "      <td>1400.057770</td>\n",
              "      <td>2407.246035</td>\n",
              "      <td>0.000</td>\n",
              "      <td>1.0</td>\n",
              "    </tr>\n",
              "    <tr>\n",
              "      <th>6</th>\n",
              "      <td>627.260806</td>\n",
              "      <td>1.000000</td>\n",
              "      <td>7091.01</td>\n",
              "      <td>6402.63</td>\n",
              "      <td>688.38</td>\n",
              "      <td>0.000000</td>\n",
              "      <td>1.000000</td>\n",
              "      <td>1.000000</td>\n",
              "      <td>1.000000</td>\n",
              "      <td>0.000000</td>\n",
              "      <td>0.0</td>\n",
              "      <td>64.0</td>\n",
              "      <td>13500.0</td>\n",
              "      <td>6354.314328</td>\n",
              "      <td>198.065894</td>\n",
              "      <td>1.000</td>\n",
              "      <td>1.0</td>\n",
              "    </tr>\n",
              "    <tr>\n",
              "      <th>9</th>\n",
              "      <td>152.225975</td>\n",
              "      <td>0.545455</td>\n",
              "      <td>1281.60</td>\n",
              "      <td>1281.60</td>\n",
              "      <td>0.00</td>\n",
              "      <td>0.000000</td>\n",
              "      <td>0.166667</td>\n",
              "      <td>0.166667</td>\n",
              "      <td>0.000000</td>\n",
              "      <td>0.000000</td>\n",
              "      <td>0.0</td>\n",
              "      <td>3.0</td>\n",
              "      <td>11000.0</td>\n",
              "      <td>1164.770591</td>\n",
              "      <td>100.302262</td>\n",
              "      <td>0.000</td>\n",
              "      <td>1.0</td>\n",
              "    </tr>\n",
              "    <tr>\n",
              "      <th>...</th>\n",
              "      <td>...</td>\n",
              "      <td>...</td>\n",
              "      <td>...</td>\n",
              "      <td>...</td>\n",
              "      <td>...</td>\n",
              "      <td>...</td>\n",
              "      <td>...</td>\n",
              "      <td>...</td>\n",
              "      <td>...</td>\n",
              "      <td>...</td>\n",
              "      <td>...</td>\n",
              "      <td>...</td>\n",
              "      <td>...</td>\n",
              "      <td>...</td>\n",
              "      <td>...</td>\n",
              "      <td>...</td>\n",
              "      <td>...</td>\n",
              "    </tr>\n",
              "    <tr>\n",
              "      <th>8624</th>\n",
              "      <td>1012.089680</td>\n",
              "      <td>1.000000</td>\n",
              "      <td>312.48</td>\n",
              "      <td>0.00</td>\n",
              "      <td>312.48</td>\n",
              "      <td>0.000000</td>\n",
              "      <td>1.000000</td>\n",
              "      <td>0.000000</td>\n",
              "      <td>1.000000</td>\n",
              "      <td>0.000000</td>\n",
              "      <td>0.0</td>\n",
              "      <td>12.0</td>\n",
              "      <td>1000.0</td>\n",
              "      <td>325.606238</td>\n",
              "      <td>607.957480</td>\n",
              "      <td>0.000</td>\n",
              "      <td>1.0</td>\n",
              "    </tr>\n",
              "    <tr>\n",
              "      <th>8628</th>\n",
              "      <td>79.038910</td>\n",
              "      <td>0.363636</td>\n",
              "      <td>750.00</td>\n",
              "      <td>0.00</td>\n",
              "      <td>750.00</td>\n",
              "      <td>0.000000</td>\n",
              "      <td>0.250000</td>\n",
              "      <td>0.000000</td>\n",
              "      <td>0.250000</td>\n",
              "      <td>0.000000</td>\n",
              "      <td>0.0</td>\n",
              "      <td>3.0</td>\n",
              "      <td>1300.0</td>\n",
              "      <td>2445.816802</td>\n",
              "      <td>177.312850</td>\n",
              "      <td>1.000</td>\n",
              "      <td>1.0</td>\n",
              "    </tr>\n",
              "    <tr>\n",
              "      <th>8630</th>\n",
              "      <td>221.291290</td>\n",
              "      <td>1.000000</td>\n",
              "      <td>1429.54</td>\n",
              "      <td>653.82</td>\n",
              "      <td>775.72</td>\n",
              "      <td>0.000000</td>\n",
              "      <td>0.916667</td>\n",
              "      <td>0.500000</td>\n",
              "      <td>0.666667</td>\n",
              "      <td>0.000000</td>\n",
              "      <td>0.0</td>\n",
              "      <td>24.0</td>\n",
              "      <td>700.0</td>\n",
              "      <td>1277.898622</td>\n",
              "      <td>149.825296</td>\n",
              "      <td>0.375</td>\n",
              "      <td>1.0</td>\n",
              "    </tr>\n",
              "    <tr>\n",
              "      <th>8632</th>\n",
              "      <td>70.162707</td>\n",
              "      <td>0.636364</td>\n",
              "      <td>599.00</td>\n",
              "      <td>0.00</td>\n",
              "      <td>599.00</td>\n",
              "      <td>0.000000</td>\n",
              "      <td>0.500000</td>\n",
              "      <td>0.000000</td>\n",
              "      <td>0.416667</td>\n",
              "      <td>0.000000</td>\n",
              "      <td>0.0</td>\n",
              "      <td>6.0</td>\n",
              "      <td>1000.0</td>\n",
              "      <td>1007.348156</td>\n",
              "      <td>139.860070</td>\n",
              "      <td>1.000</td>\n",
              "      <td>1.0</td>\n",
              "    </tr>\n",
              "    <tr>\n",
              "      <th>8633</th>\n",
              "      <td>942.329974</td>\n",
              "      <td>1.000000</td>\n",
              "      <td>450.00</td>\n",
              "      <td>450.00</td>\n",
              "      <td>0.00</td>\n",
              "      <td>722.690339</td>\n",
              "      <td>0.166667</td>\n",
              "      <td>0.166667</td>\n",
              "      <td>0.000000</td>\n",
              "      <td>0.166667</td>\n",
              "      <td>2.0</td>\n",
              "      <td>3.0</td>\n",
              "      <td>1200.0</td>\n",
              "      <td>281.028562</td>\n",
              "      <td>170.661135</td>\n",
              "      <td>0.000</td>\n",
              "      <td>1.0</td>\n",
              "    </tr>\n",
              "  </tbody>\n",
              "</table>\n",
              "<p>4151 rows × 17 columns</p>\n",
              "</div>"
            ],
            "text/plain": [
              "          BALANCE  BALANCE_FREQUENCY  ...  PRC_FULL_PAYMENT  cluster\n",
              "2     2495.148862           1.000000  ...             0.000      1.0\n",
              "4      817.714335           1.000000  ...             0.000      1.0\n",
              "5     1809.828751           1.000000  ...             0.000      1.0\n",
              "6      627.260806           1.000000  ...             1.000      1.0\n",
              "9      152.225975           0.545455  ...             0.000      1.0\n",
              "...           ...                ...  ...               ...      ...\n",
              "8624  1012.089680           1.000000  ...             0.000      1.0\n",
              "8628    79.038910           0.363636  ...             1.000      1.0\n",
              "8630   221.291290           1.000000  ...             0.375      1.0\n",
              "8632    70.162707           0.636364  ...             1.000      1.0\n",
              "8633   942.329974           1.000000  ...             0.000      1.0\n",
              "\n",
              "[4151 rows x 17 columns]"
            ]
          },
          "metadata": {
            "tags": []
          },
          "execution_count": 0
        }
      ]
    },
    {
      "cell_type": "code",
      "metadata": {
        "colab": {
          "background_save": true
        },
        "id": "8m5wqQwV2nY3",
        "outputId": "408c4369-1784-47cd-cdd1-854c1bb723a9"
      },
      "source": [
        "plt.scatter(normalize_train[0], normalize_train[1],  \n",
        "           c = SpectralClustering(n_clusters = 2,affinity='rbf',random_state=0) .fit_predict(normalize_train)) \n",
        "plt.show() "
      ],
      "execution_count": null,
      "outputs": [
        {
          "output_type": "display_data",
          "data": {
            "image/png": "[encoded data removed]",
            "text/plain": [
              "<Figure size 432x288 with 1 Axes>"
            ]
          },
          "metadata": {
            "tags": []
          }
        }
      ]
    },
    {
      "cell_type": "markdown",
      "metadata": {
        "id": "ocmz51uKAPLh"
      },
      "source": [
        "number of clusters = 2, using nearest_neighbors"
      ]
    },
    {
      "cell_type": "code",
      "metadata": {
        "colab": {
          "background_save": true
        },
        "id": "1po-DsQb_a0K"
      },
      "source": [
        "SCClustering_nn = SpectralClustering(n_clusters = 2,affinity='nearest_neighbors',random_state=0).fit(normalize_train)\n",
        "SClabels_nn = SCClustering_nn.labels_\n",
        "SCClusters_nn=pd.concat([df,pd.DataFrame({'cluster':SClabels_nn})],axis=1)"
      ],
      "execution_count": null,
      "outputs": []
    },
    {
      "cell_type": "code",
      "metadata": {
        "colab": {
          "background_save": true
        },
        "id": "OtBVwj9P_a3A",
        "outputId": "9ed0760a-ad54-486c-ea3e-5a8fdb4db15b"
      },
      "source": [
        "SCClusters_nn.loc[SCClusters_nn['cluster'] == 0]"
      ],
      "execution_count": null,
      "outputs": [
        {
          "output_type": "execute_result",
          "data": {
            "text/html": [
              "<div>\n",
              "<style scoped>\n",
              "    .dataframe tbody tr th:only-of-type {\n",
              "        vertical-align: middle;\n",
              "    }\n",
              "\n",
              "    .dataframe tbody tr th {\n",
              "        vertical-align: top;\n",
              "    }\n",
              "\n",
              "    .dataframe thead th {\n",
              "        text-align: right;\n",
              "    }\n",
              "</style>\n",
              "<table border=\"1\" class=\"dataframe\">\n",
              "  <thead>\n",
              "    <tr style=\"text-align: right;\">\n",
              "      <th></th>\n",
              "      <th>BALANCE</th>\n",
              "      <th>BALANCE_FREQUENCY</th>\n",
              "      <th>PURCHASES</th>\n",
              "      <th>ONEOFF_PURCHASES</th>\n",
              "      <th>INSTALLMENTS_PURCHASES</th>\n",
              "      <th>CASH_ADVANCE</th>\n",
              "      <th>PURCHASES_FREQUENCY</th>\n",
              "      <th>ONEOFF_PURCHASES_FREQUENCY</th>\n",
              "      <th>PURCHASES_INSTALLMENTS_FREQUENCY</th>\n",
              "      <th>CASH_ADVANCE_FREQUENCY</th>\n",
              "      <th>CASH_ADVANCE_TRX</th>\n",
              "      <th>PURCHASES_TRX</th>\n",
              "      <th>CREDIT_LIMIT</th>\n",
              "      <th>PAYMENTS</th>\n",
              "      <th>MINIMUM_PAYMENTS</th>\n",
              "      <th>PRC_FULL_PAYMENT</th>\n",
              "      <th>cluster</th>\n",
              "    </tr>\n",
              "  </thead>\n",
              "  <tbody>\n",
              "    <tr>\n",
              "      <th>2</th>\n",
              "      <td>2495.148862</td>\n",
              "      <td>1.000000</td>\n",
              "      <td>773.17</td>\n",
              "      <td>773.17</td>\n",
              "      <td>0.00</td>\n",
              "      <td>0.000000</td>\n",
              "      <td>1.000000</td>\n",
              "      <td>1.000000</td>\n",
              "      <td>0.000000</td>\n",
              "      <td>0.000000</td>\n",
              "      <td>0.0</td>\n",
              "      <td>12.0</td>\n",
              "      <td>7500.0</td>\n",
              "      <td>622.066742</td>\n",
              "      <td>627.284787</td>\n",
              "      <td>0.000</td>\n",
              "      <td>0.0</td>\n",
              "    </tr>\n",
              "    <tr>\n",
              "      <th>4</th>\n",
              "      <td>817.714335</td>\n",
              "      <td>1.000000</td>\n",
              "      <td>16.00</td>\n",
              "      <td>16.00</td>\n",
              "      <td>0.00</td>\n",
              "      <td>0.000000</td>\n",
              "      <td>0.083333</td>\n",
              "      <td>0.083333</td>\n",
              "      <td>0.000000</td>\n",
              "      <td>0.000000</td>\n",
              "      <td>0.0</td>\n",
              "      <td>1.0</td>\n",
              "      <td>1200.0</td>\n",
              "      <td>678.334763</td>\n",
              "      <td>244.791237</td>\n",
              "      <td>0.000</td>\n",
              "      <td>0.0</td>\n",
              "    </tr>\n",
              "    <tr>\n",
              "      <th>5</th>\n",
              "      <td>1809.828751</td>\n",
              "      <td>1.000000</td>\n",
              "      <td>1333.28</td>\n",
              "      <td>0.00</td>\n",
              "      <td>1333.28</td>\n",
              "      <td>0.000000</td>\n",
              "      <td>0.666667</td>\n",
              "      <td>0.000000</td>\n",
              "      <td>0.583333</td>\n",
              "      <td>0.000000</td>\n",
              "      <td>0.0</td>\n",
              "      <td>8.0</td>\n",
              "      <td>1800.0</td>\n",
              "      <td>1400.057770</td>\n",
              "      <td>2407.246035</td>\n",
              "      <td>0.000</td>\n",
              "      <td>0.0</td>\n",
              "    </tr>\n",
              "    <tr>\n",
              "      <th>6</th>\n",
              "      <td>627.260806</td>\n",
              "      <td>1.000000</td>\n",
              "      <td>7091.01</td>\n",
              "      <td>6402.63</td>\n",
              "      <td>688.38</td>\n",
              "      <td>0.000000</td>\n",
              "      <td>1.000000</td>\n",
              "      <td>1.000000</td>\n",
              "      <td>1.000000</td>\n",
              "      <td>0.000000</td>\n",
              "      <td>0.0</td>\n",
              "      <td>64.0</td>\n",
              "      <td>13500.0</td>\n",
              "      <td>6354.314328</td>\n",
              "      <td>198.065894</td>\n",
              "      <td>1.000</td>\n",
              "      <td>0.0</td>\n",
              "    </tr>\n",
              "    <tr>\n",
              "      <th>8</th>\n",
              "      <td>1014.926473</td>\n",
              "      <td>1.000000</td>\n",
              "      <td>861.49</td>\n",
              "      <td>661.49</td>\n",
              "      <td>200.00</td>\n",
              "      <td>0.000000</td>\n",
              "      <td>0.333333</td>\n",
              "      <td>0.083333</td>\n",
              "      <td>0.250000</td>\n",
              "      <td>0.000000</td>\n",
              "      <td>0.0</td>\n",
              "      <td>5.0</td>\n",
              "      <td>7000.0</td>\n",
              "      <td>688.278568</td>\n",
              "      <td>311.963409</td>\n",
              "      <td>0.000</td>\n",
              "      <td>0.0</td>\n",
              "    </tr>\n",
              "    <tr>\n",
              "      <th>...</th>\n",
              "      <td>...</td>\n",
              "      <td>...</td>\n",
              "      <td>...</td>\n",
              "      <td>...</td>\n",
              "      <td>...</td>\n",
              "      <td>...</td>\n",
              "      <td>...</td>\n",
              "      <td>...</td>\n",
              "      <td>...</td>\n",
              "      <td>...</td>\n",
              "      <td>...</td>\n",
              "      <td>...</td>\n",
              "      <td>...</td>\n",
              "      <td>...</td>\n",
              "      <td>...</td>\n",
              "      <td>...</td>\n",
              "      <td>...</td>\n",
              "    </tr>\n",
              "    <tr>\n",
              "      <th>8628</th>\n",
              "      <td>79.038910</td>\n",
              "      <td>0.363636</td>\n",
              "      <td>750.00</td>\n",
              "      <td>0.00</td>\n",
              "      <td>750.00</td>\n",
              "      <td>0.000000</td>\n",
              "      <td>0.250000</td>\n",
              "      <td>0.000000</td>\n",
              "      <td>0.250000</td>\n",
              "      <td>0.000000</td>\n",
              "      <td>0.0</td>\n",
              "      <td>3.0</td>\n",
              "      <td>1300.0</td>\n",
              "      <td>2445.816802</td>\n",
              "      <td>177.312850</td>\n",
              "      <td>1.000</td>\n",
              "      <td>0.0</td>\n",
              "    </tr>\n",
              "    <tr>\n",
              "      <th>8630</th>\n",
              "      <td>221.291290</td>\n",
              "      <td>1.000000</td>\n",
              "      <td>1429.54</td>\n",
              "      <td>653.82</td>\n",
              "      <td>775.72</td>\n",
              "      <td>0.000000</td>\n",
              "      <td>0.916667</td>\n",
              "      <td>0.500000</td>\n",
              "      <td>0.666667</td>\n",
              "      <td>0.000000</td>\n",
              "      <td>0.0</td>\n",
              "      <td>24.0</td>\n",
              "      <td>700.0</td>\n",
              "      <td>1277.898622</td>\n",
              "      <td>149.825296</td>\n",
              "      <td>0.375</td>\n",
              "      <td>0.0</td>\n",
              "    </tr>\n",
              "    <tr>\n",
              "      <th>8631</th>\n",
              "      <td>553.901465</td>\n",
              "      <td>1.000000</td>\n",
              "      <td>458.76</td>\n",
              "      <td>0.00</td>\n",
              "      <td>458.76</td>\n",
              "      <td>0.000000</td>\n",
              "      <td>1.000000</td>\n",
              "      <td>0.000000</td>\n",
              "      <td>1.000000</td>\n",
              "      <td>0.000000</td>\n",
              "      <td>0.0</td>\n",
              "      <td>12.0</td>\n",
              "      <td>1000.0</td>\n",
              "      <td>157.770746</td>\n",
              "      <td>257.530999</td>\n",
              "      <td>0.000</td>\n",
              "      <td>0.0</td>\n",
              "    </tr>\n",
              "    <tr>\n",
              "      <th>8632</th>\n",
              "      <td>70.162707</td>\n",
              "      <td>0.636364</td>\n",
              "      <td>599.00</td>\n",
              "      <td>0.00</td>\n",
              "      <td>599.00</td>\n",
              "      <td>0.000000</td>\n",
              "      <td>0.500000</td>\n",
              "      <td>0.000000</td>\n",
              "      <td>0.416667</td>\n",
              "      <td>0.000000</td>\n",
              "      <td>0.0</td>\n",
              "      <td>6.0</td>\n",
              "      <td>1000.0</td>\n",
              "      <td>1007.348156</td>\n",
              "      <td>139.860070</td>\n",
              "      <td>1.000</td>\n",
              "      <td>0.0</td>\n",
              "    </tr>\n",
              "    <tr>\n",
              "      <th>8633</th>\n",
              "      <td>942.329974</td>\n",
              "      <td>1.000000</td>\n",
              "      <td>450.00</td>\n",
              "      <td>450.00</td>\n",
              "      <td>0.00</td>\n",
              "      <td>722.690339</td>\n",
              "      <td>0.166667</td>\n",
              "      <td>0.166667</td>\n",
              "      <td>0.000000</td>\n",
              "      <td>0.166667</td>\n",
              "      <td>2.0</td>\n",
              "      <td>3.0</td>\n",
              "      <td>1200.0</td>\n",
              "      <td>281.028562</td>\n",
              "      <td>170.661135</td>\n",
              "      <td>0.000</td>\n",
              "      <td>0.0</td>\n",
              "    </tr>\n",
              "  </tbody>\n",
              "</table>\n",
              "<p>5002 rows × 17 columns</p>\n",
              "</div>"
            ],
            "text/plain": [
              "          BALANCE  BALANCE_FREQUENCY  ...  PRC_FULL_PAYMENT  cluster\n",
              "2     2495.148862           1.000000  ...             0.000      0.0\n",
              "4      817.714335           1.000000  ...             0.000      0.0\n",
              "5     1809.828751           1.000000  ...             0.000      0.0\n",
              "6      627.260806           1.000000  ...             1.000      0.0\n",
              "8     1014.926473           1.000000  ...             0.000      0.0\n",
              "...           ...                ...  ...               ...      ...\n",
              "8628    79.038910           0.363636  ...             1.000      0.0\n",
              "8630   221.291290           1.000000  ...             0.375      0.0\n",
              "8631   553.901465           1.000000  ...             0.000      0.0\n",
              "8632    70.162707           0.636364  ...             1.000      0.0\n",
              "8633   942.329974           1.000000  ...             0.000      0.0\n",
              "\n",
              "[5002 rows x 17 columns]"
            ]
          },
          "metadata": {
            "tags": []
          },
          "execution_count": 0
        }
      ]
    },
    {
      "cell_type": "code",
      "metadata": {
        "colab": {
          "background_save": true
        },
        "id": "1Ly_Cmmn_a6L",
        "outputId": "7a44fc13-0892-46ef-9b41-d906fd29f0ca"
      },
      "source": [
        "SCClusters_nn.loc[SCClusters_nn['cluster'] == 1]"
      ],
      "execution_count": null,
      "outputs": [
        {
          "output_type": "execute_result",
          "data": {
            "text/html": [
              "<div>\n",
              "<style scoped>\n",
              "    .dataframe tbody tr th:only-of-type {\n",
              "        vertical-align: middle;\n",
              "    }\n",
              "\n",
              "    .dataframe tbody tr th {\n",
              "        vertical-align: top;\n",
              "    }\n",
              "\n",
              "    .dataframe thead th {\n",
              "        text-align: right;\n",
              "    }\n",
              "</style>\n",
              "<table border=\"1\" class=\"dataframe\">\n",
              "  <thead>\n",
              "    <tr style=\"text-align: right;\">\n",
              "      <th></th>\n",
              "      <th>BALANCE</th>\n",
              "      <th>BALANCE_FREQUENCY</th>\n",
              "      <th>PURCHASES</th>\n",
              "      <th>ONEOFF_PURCHASES</th>\n",
              "      <th>INSTALLMENTS_PURCHASES</th>\n",
              "      <th>CASH_ADVANCE</th>\n",
              "      <th>PURCHASES_FREQUENCY</th>\n",
              "      <th>ONEOFF_PURCHASES_FREQUENCY</th>\n",
              "      <th>PURCHASES_INSTALLMENTS_FREQUENCY</th>\n",
              "      <th>CASH_ADVANCE_FREQUENCY</th>\n",
              "      <th>CASH_ADVANCE_TRX</th>\n",
              "      <th>PURCHASES_TRX</th>\n",
              "      <th>CREDIT_LIMIT</th>\n",
              "      <th>PAYMENTS</th>\n",
              "      <th>MINIMUM_PAYMENTS</th>\n",
              "      <th>PRC_FULL_PAYMENT</th>\n",
              "      <th>cluster</th>\n",
              "    </tr>\n",
              "  </thead>\n",
              "  <tbody>\n",
              "    <tr>\n",
              "      <th>0</th>\n",
              "      <td>40.900749</td>\n",
              "      <td>0.818182</td>\n",
              "      <td>95.40</td>\n",
              "      <td>0.00</td>\n",
              "      <td>95.40</td>\n",
              "      <td>0.000000</td>\n",
              "      <td>0.166667</td>\n",
              "      <td>0.000000</td>\n",
              "      <td>0.083333</td>\n",
              "      <td>0.000000</td>\n",
              "      <td>0.0</td>\n",
              "      <td>2.0</td>\n",
              "      <td>1000.0</td>\n",
              "      <td>201.802084</td>\n",
              "      <td>139.509787</td>\n",
              "      <td>0.000000</td>\n",
              "      <td>1.0</td>\n",
              "    </tr>\n",
              "    <tr>\n",
              "      <th>1</th>\n",
              "      <td>3202.467416</td>\n",
              "      <td>0.909091</td>\n",
              "      <td>0.00</td>\n",
              "      <td>0.00</td>\n",
              "      <td>0.00</td>\n",
              "      <td>6442.945483</td>\n",
              "      <td>0.000000</td>\n",
              "      <td>0.000000</td>\n",
              "      <td>0.000000</td>\n",
              "      <td>0.250000</td>\n",
              "      <td>4.0</td>\n",
              "      <td>0.0</td>\n",
              "      <td>7000.0</td>\n",
              "      <td>4103.032597</td>\n",
              "      <td>1072.340217</td>\n",
              "      <td>0.222222</td>\n",
              "      <td>1.0</td>\n",
              "    </tr>\n",
              "    <tr>\n",
              "      <th>3</th>\n",
              "      <td>NaN</td>\n",
              "      <td>NaN</td>\n",
              "      <td>NaN</td>\n",
              "      <td>NaN</td>\n",
              "      <td>NaN</td>\n",
              "      <td>NaN</td>\n",
              "      <td>NaN</td>\n",
              "      <td>NaN</td>\n",
              "      <td>NaN</td>\n",
              "      <td>NaN</td>\n",
              "      <td>NaN</td>\n",
              "      <td>NaN</td>\n",
              "      <td>NaN</td>\n",
              "      <td>NaN</td>\n",
              "      <td>NaN</td>\n",
              "      <td>NaN</td>\n",
              "      <td>1.0</td>\n",
              "    </tr>\n",
              "    <tr>\n",
              "      <th>7</th>\n",
              "      <td>1823.652743</td>\n",
              "      <td>1.000000</td>\n",
              "      <td>436.20</td>\n",
              "      <td>0.00</td>\n",
              "      <td>436.20</td>\n",
              "      <td>0.000000</td>\n",
              "      <td>1.000000</td>\n",
              "      <td>0.000000</td>\n",
              "      <td>1.000000</td>\n",
              "      <td>0.000000</td>\n",
              "      <td>0.0</td>\n",
              "      <td>12.0</td>\n",
              "      <td>2300.0</td>\n",
              "      <td>679.065082</td>\n",
              "      <td>532.033990</td>\n",
              "      <td>0.000000</td>\n",
              "      <td>1.0</td>\n",
              "    </tr>\n",
              "    <tr>\n",
              "      <th>13</th>\n",
              "      <td>921.693369</td>\n",
              "      <td>1.000000</td>\n",
              "      <td>2137.93</td>\n",
              "      <td>419.96</td>\n",
              "      <td>1717.97</td>\n",
              "      <td>0.000000</td>\n",
              "      <td>0.750000</td>\n",
              "      <td>0.166667</td>\n",
              "      <td>0.750000</td>\n",
              "      <td>0.000000</td>\n",
              "      <td>0.0</td>\n",
              "      <td>26.0</td>\n",
              "      <td>7500.0</td>\n",
              "      <td>1655.891435</td>\n",
              "      <td>251.137986</td>\n",
              "      <td>0.083333</td>\n",
              "      <td>1.0</td>\n",
              "    </tr>\n",
              "    <tr>\n",
              "      <th>...</th>\n",
              "      <td>...</td>\n",
              "      <td>...</td>\n",
              "      <td>...</td>\n",
              "      <td>...</td>\n",
              "      <td>...</td>\n",
              "      <td>...</td>\n",
              "      <td>...</td>\n",
              "      <td>...</td>\n",
              "      <td>...</td>\n",
              "      <td>...</td>\n",
              "      <td>...</td>\n",
              "      <td>...</td>\n",
              "      <td>...</td>\n",
              "      <td>...</td>\n",
              "      <td>...</td>\n",
              "      <td>...</td>\n",
              "      <td>...</td>\n",
              "    </tr>\n",
              "    <tr>\n",
              "      <th>8626</th>\n",
              "      <td>1528.122917</td>\n",
              "      <td>1.000000</td>\n",
              "      <td>0.00</td>\n",
              "      <td>0.00</td>\n",
              "      <td>0.00</td>\n",
              "      <td>2426.656054</td>\n",
              "      <td>0.000000</td>\n",
              "      <td>0.000000</td>\n",
              "      <td>0.000000</td>\n",
              "      <td>0.500000</td>\n",
              "      <td>19.0</td>\n",
              "      <td>0.0</td>\n",
              "      <td>3500.0</td>\n",
              "      <td>2039.574349</td>\n",
              "      <td>314.465218</td>\n",
              "      <td>0.000000</td>\n",
              "      <td>1.0</td>\n",
              "    </tr>\n",
              "    <tr>\n",
              "      <th>8627</th>\n",
              "      <td>342.361553</td>\n",
              "      <td>1.000000</td>\n",
              "      <td>258.50</td>\n",
              "      <td>83.48</td>\n",
              "      <td>175.02</td>\n",
              "      <td>225.819508</td>\n",
              "      <td>0.666667</td>\n",
              "      <td>0.166667</td>\n",
              "      <td>0.500000</td>\n",
              "      <td>0.083333</td>\n",
              "      <td>3.0</td>\n",
              "      <td>10.0</td>\n",
              "      <td>1000.0</td>\n",
              "      <td>686.449219</td>\n",
              "      <td>282.368125</td>\n",
              "      <td>0.083333</td>\n",
              "      <td>1.0</td>\n",
              "    </tr>\n",
              "    <tr>\n",
              "      <th>8629</th>\n",
              "      <td>115.611030</td>\n",
              "      <td>1.000000</td>\n",
              "      <td>379.32</td>\n",
              "      <td>0.00</td>\n",
              "      <td>379.32</td>\n",
              "      <td>0.000000</td>\n",
              "      <td>1.000000</td>\n",
              "      <td>0.000000</td>\n",
              "      <td>1.000000</td>\n",
              "      <td>0.000000</td>\n",
              "      <td>0.0</td>\n",
              "      <td>12.0</td>\n",
              "      <td>1000.0</td>\n",
              "      <td>281.152056</td>\n",
              "      <td>179.901711</td>\n",
              "      <td>0.000000</td>\n",
              "      <td>1.0</td>\n",
              "    </tr>\n",
              "    <tr>\n",
              "      <th>8634</th>\n",
              "      <td>683.188651</td>\n",
              "      <td>1.000000</td>\n",
              "      <td>85.00</td>\n",
              "      <td>85.00</td>\n",
              "      <td>0.00</td>\n",
              "      <td>0.000000</td>\n",
              "      <td>0.083333</td>\n",
              "      <td>0.083333</td>\n",
              "      <td>0.000000</td>\n",
              "      <td>0.000000</td>\n",
              "      <td>0.0</td>\n",
              "      <td>1.0</td>\n",
              "      <td>3000.0</td>\n",
              "      <td>447.237766</td>\n",
              "      <td>214.535254</td>\n",
              "      <td>0.000000</td>\n",
              "      <td>1.0</td>\n",
              "    </tr>\n",
              "    <tr>\n",
              "      <th>8635</th>\n",
              "      <td>4.107485</td>\n",
              "      <td>0.181818</td>\n",
              "      <td>52.50</td>\n",
              "      <td>0.00</td>\n",
              "      <td>52.50</td>\n",
              "      <td>0.000000</td>\n",
              "      <td>0.166667</td>\n",
              "      <td>0.000000</td>\n",
              "      <td>0.083333</td>\n",
              "      <td>0.000000</td>\n",
              "      <td>0.0</td>\n",
              "      <td>2.0</td>\n",
              "      <td>500.0</td>\n",
              "      <td>82.529481</td>\n",
              "      <td>163.602544</td>\n",
              "      <td>0.000000</td>\n",
              "      <td>1.0</td>\n",
              "    </tr>\n",
              "  </tbody>\n",
              "</table>\n",
              "<p>3634 rows × 17 columns</p>\n",
              "</div>"
            ],
            "text/plain": [
              "          BALANCE  BALANCE_FREQUENCY  ...  PRC_FULL_PAYMENT  cluster\n",
              "0       40.900749           0.818182  ...          0.000000      1.0\n",
              "1     3202.467416           0.909091  ...          0.222222      1.0\n",
              "3             NaN                NaN  ...               NaN      1.0\n",
              "7     1823.652743           1.000000  ...          0.000000      1.0\n",
              "13     921.693369           1.000000  ...          0.083333      1.0\n",
              "...           ...                ...  ...               ...      ...\n",
              "8626  1528.122917           1.000000  ...          0.000000      1.0\n",
              "8627   342.361553           1.000000  ...          0.083333      1.0\n",
              "8629   115.611030           1.000000  ...          0.000000      1.0\n",
              "8634   683.188651           1.000000  ...          0.000000      1.0\n",
              "8635     4.107485           0.181818  ...          0.000000      1.0\n",
              "\n",
              "[3634 rows x 17 columns]"
            ]
          },
          "metadata": {
            "tags": []
          },
          "execution_count": 0
        }
      ]
    },
    {
      "cell_type": "code",
      "metadata": {
        "colab": {
          "background_save": true
        },
        "id": "VUbFmZsU_a8S",
        "outputId": "3ae3fac7-9acf-4442-d27b-524a654efe40"
      },
      "source": [
        "plt.scatter(normalize_train[0], normalize_train[1],  \n",
        "           c = SpectralClustering(n_clusters = 2,affinity='nearest_neighbors',random_state=0).fit_predict(normalize_train)) \n",
        "plt.show()"
      ],
      "execution_count": null,
      "outputs": [
        {
          "output_type": "display_data",
          "data": {
            "image/png": "[encoded data removed]",
            "text/plain": [
              "<Figure size 432x288 with 1 Axes>"
            ]
          },
          "metadata": {
            "tags": []
          }
        }
      ]
    },
    {
      "cell_type": "markdown",
      "metadata": {
        "id": "QSngARNEAkRl"
      },
      "source": [
        "**No. 3: Gaussian Mixture model**"
      ]
    },
    {
      "cell_type": "code",
      "metadata": {
        "colab": {
          "background_save": true
        },
        "id": "TPlxdWFsMZA2",
        "outputId": "3dea6d60-5cfa-4bb9-ff2d-2d19ddb64a6e"
      },
      "source": [
        "# Visualizing data with missing value removed:\n",
        "f, axes = plt.subplots(2, 2, figsize=(10, 7), sharex=True);\n",
        "sns.despine(left=True);\n",
        "# kernel density estimation and rug plot\n",
        "sns.distplot(df['MINIMUM_PAYMENTS'], hist=True, rug=True, color=\"r\", ax=axes[0, 1]);\n",
        "sns.distplot(df['CREDIT_LIMIT'], hist=True, rug=True, color=\"b\", ax=axes[0, 0]);\n",
        "# null value deleted estimation plot\n",
        "sns.distplot(df['MINIMUM_PAYMENTS'],  color=\"g\",ax=axes[1, 1]);\n",
        "sns.distplot(df['CREDIT_LIMIT'], color=\"y\", ax=axes[1, 0]);"
      ],
      "execution_count": null,
      "outputs": [
        {
          "output_type": "stream",
          "text": [
            "/usr/local/lib/python3.7/dist-packages/seaborn/distributions.py:2557: FutureWarning: `distplot` is a deprecated function and will be removed in a future version. Please adapt your code to use either `displot` (a figure-level function with similar flexibility) or `histplot` (an axes-level function for histograms).\n",
            "  warnings.warn(msg, FutureWarning)\n",
            "/usr/local/lib/python3.7/dist-packages/seaborn/distributions.py:2056: FutureWarning: The `axis` variable is no longer used and will be removed. Instead, assign variables directly to `x` or `y`.\n",
            "  warnings.warn(msg, FutureWarning)\n",
            "/usr/local/lib/python3.7/dist-packages/seaborn/distributions.py:2557: FutureWarning: `distplot` is a deprecated function and will be removed in a future version. Please adapt your code to use either `displot` (a figure-level function with similar flexibility) or `histplot` (an axes-level function for histograms).\n",
            "  warnings.warn(msg, FutureWarning)\n",
            "/usr/local/lib/python3.7/dist-packages/seaborn/distributions.py:2056: FutureWarning: The `axis` variable is no longer used and will be removed. Instead, assign variables directly to `x` or `y`.\n",
            "  warnings.warn(msg, FutureWarning)\n",
            "/usr/local/lib/python3.7/dist-packages/seaborn/distributions.py:2557: FutureWarning: `distplot` is a deprecated function and will be removed in a future version. Please adapt your code to use either `displot` (a figure-level function with similar flexibility) or `histplot` (an axes-level function for histograms).\n",
            "  warnings.warn(msg, FutureWarning)\n",
            "/usr/local/lib/python3.7/dist-packages/seaborn/distributions.py:2557: FutureWarning: `distplot` is a deprecated function and will be removed in a future version. Please adapt your code to use either `displot` (a figure-level function with similar flexibility) or `histplot` (an axes-level function for histograms).\n",
            "  warnings.warn(msg, FutureWarning)\n"
          ],
          "name": "stderr"
        },
        {
          "output_type": "display_data",
          "data": {
            "image/png": "[encoded data removed]",
            "text/plain": [
              "<Figure size 720x504 with 4 Axes>"
            ]
          },
          "metadata": {
            "tags": []
          }
        }
      ]
    },
    {
      "cell_type": "code",
      "metadata": {
        "colab": {
          "background_save": true
        },
        "id": "RXCSwz7MPjhw",
        "outputId": "5672e7fc-44aa-43c6-9909-3a03271fb3a8"
      },
      "source": [
        "# Finding the number of clusters:\n",
        "model = [GM(i,random_state=0).fit(normalize_train) for i in range(1,10)]\n",
        "gr = pd.DataFrame({'bic':[j.bic(normalize_train) for j in model],\n",
        "                  'aic': [j.aic(normalize_train) for j in model]},index=np.arange(1,10))\n",
        "gr.plot(use_index=True)"
      ],
      "execution_count": null,
      "outputs": [
        {
          "output_type": "execute_result",
          "data": {
            "text/plain": [
              "<matplotlib.axes._subplots.AxesSubplot at 0x7f4b4b7b8b90>"
            ]
          },
          "metadata": {
            "tags": []
          },
          "execution_count": 0
        },
        {
          "output_type": "display_data",
          "data": {
            "image/png": "[encoded data removed]",
            "text/plain": [
              "<Figure size 432x288 with 1 Axes>"
            ]
          },
          "metadata": {
            "tags": []
          }
        }
      ]
    },
    {
      "cell_type": "markdown",
      "metadata": {
        "id": "8oOXfDXpP5jb"
      },
      "source": [
        "choose K=3 as the numb of cluster"
      ]
    },
    {
      "cell_type": "code",
      "metadata": {
        "colab": {
          "background_save": true
        },
        "id": "6MpwdMDqP1w2",
        "outputId": "ebd01150-dd72-4469-839b-b651dae07651"
      },
      "source": [
        "# Visualization using Gaussian Mixture model\n",
        "mod = GM(n_components = 3, n_init = 10, max_iter = 100)\n",
        "cluster = mod.fit_predict(normalize_train)\n",
        "dff = df.copy()\n",
        "dff['cluster'] = cluster\n",
        "# three clusters' data individually\n",
        "for i in dff:\n",
        "    if i != 'cluster':\n",
        "        g = sns.FacetGrid(dff, col = 'cluster',sharex=False,sharey=False)\n",
        "        p = g.map(sns.histplot, i,kde_kws = {'bw':2})\n",
        "plt.show()"
      ],
      "execution_count": null,
      "outputs": [
        {
          "output_type": "display_data",
          "data": {
            "image/png": "[encoded data removed]",
            "text/plain": [
              "<Figure size 648x216 with 3 Axes>"
            ]
          },
          "metadata": {
            "tags": []
          }
        },
        {
          "output_type": "display_data",
          "data": {
            "image/png": "[encoded data removed]",
            "text/plain": [
              "<Figure size 648x216 with 3 Axes>"
            ]
          },
          "metadata": {
            "tags": []
          }
        },
        {
          "output_type": "display_data",
          "data": {
            "image/png": "[encoded data removed]",
            "text/plain": [
              "<Figure size 648x216 with 3 Axes>"
            ]
          },
          "metadata": {
            "tags": []
          }
        },
        {
          "output_type": "display_data",
          "data": {
            "image/png": "[encoded data removed]",
            "text/plain": [
              "<Figure size 648x216 with 3 Axes>"
            ]
          },
          "metadata": {
            "tags": []
          }
        },
        {
          "output_type": "display_data",
          "data": {
            "image/png": "[encoded data removed]",
            "text/plain": [
              "<Figure size 648x216 with 3 Axes>"
            ]
          },
          "metadata": {
            "tags": []
          }
        },
        {
          "output_type": "display_data",
          "data": {
            "image/png": "[encoded data removed]",
            "text/plain": [
              "<Figure size 648x216 with 3 Axes>"
            ]
          },
          "metadata": {
            "tags": []
          }
        },
        {
          "output_type": "display_data",
          "data": {
            "image/png": "[encoded data removed]",
            "text/plain": [
              "<Figure size 648x216 with 3 Axes>"
            ]
          },
          "metadata": {
            "tags": []
          }
        },
        {
          "output_type": "display_data",
          "data": {
            "image/png": "[encoded data removed]",
            "text/plain": [
              "<Figure size 648x216 with 3 Axes>"
            ]
          },
          "metadata": {
            "tags": []
          }
        },
        {
          "output_type": "display_data",
          "data": {
            "image/png": "[encoded data removed]",
            "text/plain": [
              "<Figure size 648x216 with 3 Axes>"
            ]
          },
          "metadata": {
            "tags": []
          }
        },
        {
          "output_type": "display_data",
          "data": {
            "image/png": "[encoded data removed]",
            "text/plain": [
              "<Figure size 648x216 with 3 Axes>"
            ]
          },
          "metadata": {
            "tags": []
          }
        },
        {
          "output_type": "display_data",
          "data": {
            "image/png": "[encoded data removed]",
            "text/plain": [
              "<Figure size 648x216 with 3 Axes>"
            ]
          },
          "metadata": {
            "tags": []
          }
        },
        {
          "output_type": "display_data",
          "data": {
            "image/png": "[encoded data removed]",
            "text/plain": [
              "<Figure size 648x216 with 3 Axes>"
            ]
          },
          "metadata": {
            "tags": []
          }
        },
        {
          "output_type": "display_data",
          "data": {
            "image/png": "[encoded data removed]",
            "text/plain": [
              "<Figure size 648x216 with 3 Axes>"
            ]
          },
          "metadata": {
            "tags": []
          }
        },
        {
          "output_type": "display_data",
          "data": {
            "image/png": "[encoded data removed]",
            "text/plain": [
              "<Figure size 648x216 with 3 Axes>"
            ]
          },
          "metadata": {
            "tags": []
          }
        },
        {
          "output_type": "display_data",
          "data": {
            "image/png": "[encoded data removed]",
            "text/plain": [
              "<Figure size 648x216 with 3 Axes>"
            ]
          },
          "metadata": {
            "tags": []
          }
        },
        {
          "output_type": "display_data",
          "data": {
            "image/png": "[encoded data removed]",
            "text/plain": [
              "<Figure size 648x216 with 3 Axes>"
            ]
          },
          "metadata": {
            "tags": []
          }
        }
      ]
    },
    {
      "cell_type": "code",
      "metadata": {
        "colab": {
          "background_save": true
        },
        "id": "QmX3tzeKQFXJ",
        "outputId": "87b13b35-1969-4293-f37b-54fe35e9de84"
      },
      "source": [
        "# Numerical information\n",
        "for i in range(3):\n",
        "    display(dff[dff.cluster == i].describe())"
      ],
      "execution_count": null,
      "outputs": [
        {
          "output_type": "display_data",
          "data": {
            "text/html": [
              "<div>\n",
              "<style scoped>\n",
              "    .dataframe tbody tr th:only-of-type {\n",
              "        vertical-align: middle;\n",
              "    }\n",
              "\n",
              "    .dataframe tbody tr th {\n",
              "        vertical-align: top;\n",
              "    }\n",
              "\n",
              "    .dataframe thead th {\n",
              "        text-align: right;\n",
              "    }\n",
              "</style>\n",
              "<table border=\"1\" class=\"dataframe\">\n",
              "  <thead>\n",
              "    <tr style=\"text-align: right;\">\n",
              "      <th></th>\n",
              "      <th>BALANCE</th>\n",
              "      <th>BALANCE_FREQUENCY</th>\n",
              "      <th>PURCHASES</th>\n",
              "      <th>ONEOFF_PURCHASES</th>\n",
              "      <th>INSTALLMENTS_PURCHASES</th>\n",
              "      <th>CASH_ADVANCE</th>\n",
              "      <th>PURCHASES_FREQUENCY</th>\n",
              "      <th>ONEOFF_PURCHASES_FREQUENCY</th>\n",
              "      <th>PURCHASES_INSTALLMENTS_FREQUENCY</th>\n",
              "      <th>CASH_ADVANCE_FREQUENCY</th>\n",
              "      <th>CASH_ADVANCE_TRX</th>\n",
              "      <th>PURCHASES_TRX</th>\n",
              "      <th>CREDIT_LIMIT</th>\n",
              "      <th>PAYMENTS</th>\n",
              "      <th>MINIMUM_PAYMENTS</th>\n",
              "      <th>PRC_FULL_PAYMENT</th>\n",
              "      <th>cluster</th>\n",
              "    </tr>\n",
              "  </thead>\n",
              "  <tbody>\n",
              "    <tr>\n",
              "      <th>count</th>\n",
              "      <td>2528.000000</td>\n",
              "      <td>2528.000000</td>\n",
              "      <td>2528.000000</td>\n",
              "      <td>2528.000000</td>\n",
              "      <td>2528.000000</td>\n",
              "      <td>2528.000000</td>\n",
              "      <td>2528.000000</td>\n",
              "      <td>2528.000000</td>\n",
              "      <td>2528.000000</td>\n",
              "      <td>2528.000000</td>\n",
              "      <td>2528.000000</td>\n",
              "      <td>2528.000000</td>\n",
              "      <td>2528.000000</td>\n",
              "      <td>2528.000000</td>\n",
              "      <td>2528.000000</td>\n",
              "      <td>2528.000000</td>\n",
              "      <td>2528.0</td>\n",
              "    </tr>\n",
              "    <tr>\n",
              "      <th>mean</th>\n",
              "      <td>2577.308812</td>\n",
              "      <td>0.958525</td>\n",
              "      <td>1311.507591</td>\n",
              "      <td>771.431491</td>\n",
              "      <td>541.088809</td>\n",
              "      <td>1734.461625</td>\n",
              "      <td>0.618982</td>\n",
              "      <td>0.266997</td>\n",
              "      <td>0.452872</td>\n",
              "      <td>0.240571</td>\n",
              "      <td>5.892009</td>\n",
              "      <td>19.925237</td>\n",
              "      <td>4910.198224</td>\n",
              "      <td>2484.475707</td>\n",
              "      <td>1657.575320</td>\n",
              "      <td>0.061663</td>\n",
              "      <td>0.0</td>\n",
              "    </tr>\n",
              "    <tr>\n",
              "      <th>std</th>\n",
              "      <td>2517.367811</td>\n",
              "      <td>0.117088</td>\n",
              "      <td>2130.360303</td>\n",
              "      <td>1724.080023</td>\n",
              "      <td>1002.123228</td>\n",
              "      <td>2685.209221</td>\n",
              "      <td>0.333956</td>\n",
              "      <td>0.287227</td>\n",
              "      <td>0.391020</td>\n",
              "      <td>0.217256</td>\n",
              "      <td>8.111596</td>\n",
              "      <td>27.377795</td>\n",
              "      <td>3909.313658</td>\n",
              "      <td>3671.929537</td>\n",
              "      <td>3459.793279</td>\n",
              "      <td>0.167215</td>\n",
              "      <td>0.0</td>\n",
              "    </tr>\n",
              "    <tr>\n",
              "      <th>min</th>\n",
              "      <td>1.097736</td>\n",
              "      <td>0.181818</td>\n",
              "      <td>0.000000</td>\n",
              "      <td>0.000000</td>\n",
              "      <td>0.000000</td>\n",
              "      <td>0.000000</td>\n",
              "      <td>0.000000</td>\n",
              "      <td>0.000000</td>\n",
              "      <td>0.000000</td>\n",
              "      <td>0.000000</td>\n",
              "      <td>0.000000</td>\n",
              "      <td>0.000000</td>\n",
              "      <td>300.000000</td>\n",
              "      <td>18.496532</td>\n",
              "      <td>3.197940</td>\n",
              "      <td>0.000000</td>\n",
              "      <td>0.0</td>\n",
              "    </tr>\n",
              "    <tr>\n",
              "      <th>25%</th>\n",
              "      <td>898.385358</td>\n",
              "      <td>1.000000</td>\n",
              "      <td>284.702500</td>\n",
              "      <td>0.000000</td>\n",
              "      <td>0.000000</td>\n",
              "      <td>157.181560</td>\n",
              "      <td>0.333333</td>\n",
              "      <td>0.000000</td>\n",
              "      <td>0.000000</td>\n",
              "      <td>0.083333</td>\n",
              "      <td>1.000000</td>\n",
              "      <td>5.000000</td>\n",
              "      <td>1800.000000</td>\n",
              "      <td>672.473301</td>\n",
              "      <td>370.982701</td>\n",
              "      <td>0.000000</td>\n",
              "      <td>0.0</td>\n",
              "    </tr>\n",
              "    <tr>\n",
              "      <th>50%</th>\n",
              "      <td>1696.230029</td>\n",
              "      <td>1.000000</td>\n",
              "      <td>663.020000</td>\n",
              "      <td>262.250000</td>\n",
              "      <td>225.950000</td>\n",
              "      <td>892.201154</td>\n",
              "      <td>0.666667</td>\n",
              "      <td>0.166667</td>\n",
              "      <td>0.416667</td>\n",
              "      <td>0.166667</td>\n",
              "      <td>3.000000</td>\n",
              "      <td>12.000000</td>\n",
              "      <td>3725.000000</td>\n",
              "      <td>1398.427798</td>\n",
              "      <td>857.613692</td>\n",
              "      <td>0.000000</td>\n",
              "      <td>0.0</td>\n",
              "    </tr>\n",
              "    <tr>\n",
              "      <th>75%</th>\n",
              "      <td>3517.216573</td>\n",
              "      <td>1.000000</td>\n",
              "      <td>1520.680000</td>\n",
              "      <td>872.335000</td>\n",
              "      <td>666.040000</td>\n",
              "      <td>2307.910276</td>\n",
              "      <td>1.000000</td>\n",
              "      <td>0.416667</td>\n",
              "      <td>0.833333</td>\n",
              "      <td>0.333333</td>\n",
              "      <td>8.000000</td>\n",
              "      <td>24.000000</td>\n",
              "      <td>7000.000000</td>\n",
              "      <td>2751.453021</td>\n",
              "      <td>1674.568994</td>\n",
              "      <td>0.000000</td>\n",
              "      <td>0.0</td>\n",
              "    </tr>\n",
              "    <tr>\n",
              "      <th>max</th>\n",
              "      <td>19043.138560</td>\n",
              "      <td>1.000000</td>\n",
              "      <td>41050.400000</td>\n",
              "      <td>40624.060000</td>\n",
              "      <td>14686.100000</td>\n",
              "      <td>47137.211760</td>\n",
              "      <td>1.000000</td>\n",
              "      <td>1.000000</td>\n",
              "      <td>1.000000</td>\n",
              "      <td>1.250000</td>\n",
              "      <td>123.000000</td>\n",
              "      <td>347.000000</td>\n",
              "      <td>30000.000000</td>\n",
              "      <td>50721.483360</td>\n",
              "      <td>76406.207520</td>\n",
              "      <td>1.000000</td>\n",
              "      <td>0.0</td>\n",
              "    </tr>\n",
              "  </tbody>\n",
              "</table>\n",
              "</div>"
            ],
            "text/plain": [
              "            BALANCE  BALANCE_FREQUENCY  ...  PRC_FULL_PAYMENT  cluster\n",
              "count   2528.000000        2528.000000  ...       2528.000000   2528.0\n",
              "mean    2577.308812           0.958525  ...          0.061663      0.0\n",
              "std     2517.367811           0.117088  ...          0.167215      0.0\n",
              "min        1.097736           0.181818  ...          0.000000      0.0\n",
              "25%      898.385358           1.000000  ...          0.000000      0.0\n",
              "50%     1696.230029           1.000000  ...          0.000000      0.0\n",
              "75%     3517.216573           1.000000  ...          0.000000      0.0\n",
              "max    19043.138560           1.000000  ...          1.000000      0.0\n",
              "\n",
              "[8 rows x 17 columns]"
            ]
          },
          "metadata": {
            "tags": []
          }
        },
        {
          "output_type": "display_data",
          "data": {
            "text/html": [
              "<div>\n",
              "<style scoped>\n",
              "    .dataframe tbody tr th:only-of-type {\n",
              "        vertical-align: middle;\n",
              "    }\n",
              "\n",
              "    .dataframe tbody tr th {\n",
              "        vertical-align: top;\n",
              "    }\n",
              "\n",
              "    .dataframe thead th {\n",
              "        text-align: right;\n",
              "    }\n",
              "</style>\n",
              "<table border=\"1\" class=\"dataframe\">\n",
              "  <thead>\n",
              "    <tr style=\"text-align: right;\">\n",
              "      <th></th>\n",
              "      <th>BALANCE</th>\n",
              "      <th>BALANCE_FREQUENCY</th>\n",
              "      <th>PURCHASES</th>\n",
              "      <th>ONEOFF_PURCHASES</th>\n",
              "      <th>INSTALLMENTS_PURCHASES</th>\n",
              "      <th>CASH_ADVANCE</th>\n",
              "      <th>PURCHASES_FREQUENCY</th>\n",
              "      <th>ONEOFF_PURCHASES_FREQUENCY</th>\n",
              "      <th>PURCHASES_INSTALLMENTS_FREQUENCY</th>\n",
              "      <th>CASH_ADVANCE_FREQUENCY</th>\n",
              "      <th>CASH_ADVANCE_TRX</th>\n",
              "      <th>PURCHASES_TRX</th>\n",
              "      <th>CREDIT_LIMIT</th>\n",
              "      <th>PAYMENTS</th>\n",
              "      <th>MINIMUM_PAYMENTS</th>\n",
              "      <th>PRC_FULL_PAYMENT</th>\n",
              "      <th>cluster</th>\n",
              "    </tr>\n",
              "  </thead>\n",
              "  <tbody>\n",
              "    <tr>\n",
              "      <th>count</th>\n",
              "      <td>3962.000000</td>\n",
              "      <td>3962.000000</td>\n",
              "      <td>3962.000000</td>\n",
              "      <td>3962.000000</td>\n",
              "      <td>3962.000000</td>\n",
              "      <td>3962.000000</td>\n",
              "      <td>3962.000000</td>\n",
              "      <td>3962.000000</td>\n",
              "      <td>3962.000000</td>\n",
              "      <td>3962.000000</td>\n",
              "      <td>3962.000000</td>\n",
              "      <td>3962.000000</td>\n",
              "      <td>3962.000000</td>\n",
              "      <td>3962.000000</td>\n",
              "      <td>3962.000000</td>\n",
              "      <td>3962.000000</td>\n",
              "      <td>3962.0</td>\n",
              "    </tr>\n",
              "    <tr>\n",
              "      <th>mean</th>\n",
              "      <td>667.092054</td>\n",
              "      <td>0.854123</td>\n",
              "      <td>1395.681901</td>\n",
              "      <td>823.660134</td>\n",
              "      <td>572.053695</td>\n",
              "      <td>0.140880</td>\n",
              "      <td>0.681949</td>\n",
              "      <td>0.274243</td>\n",
              "      <td>0.514939</td>\n",
              "      <td>0.000021</td>\n",
              "      <td>0.000252</td>\n",
              "      <td>20.003786</td>\n",
              "      <td>4534.307372</td>\n",
              "      <td>1393.751482</td>\n",
              "      <td>279.109587</td>\n",
              "      <td>0.283921</td>\n",
              "      <td>1.0</td>\n",
              "    </tr>\n",
              "    <tr>\n",
              "      <th>std</th>\n",
              "      <td>1180.280943</td>\n",
              "      <td>0.239051</td>\n",
              "      <td>2566.879892</td>\n",
              "      <td>2006.807571</td>\n",
              "      <td>1032.181427</td>\n",
              "      <td>8.867615</td>\n",
              "      <td>0.325764</td>\n",
              "      <td>0.339004</td>\n",
              "      <td>0.385215</td>\n",
              "      <td>0.001324</td>\n",
              "      <td>0.015887</td>\n",
              "      <td>27.259739</td>\n",
              "      <td>3651.909242</td>\n",
              "      <td>2329.633878</td>\n",
              "      <td>315.314273</td>\n",
              "      <td>0.366701</td>\n",
              "      <td>0.0</td>\n",
              "    </tr>\n",
              "    <tr>\n",
              "      <th>min</th>\n",
              "      <td>0.000000</td>\n",
              "      <td>0.000000</td>\n",
              "      <td>0.000000</td>\n",
              "      <td>0.000000</td>\n",
              "      <td>0.000000</td>\n",
              "      <td>0.000000</td>\n",
              "      <td>0.083333</td>\n",
              "      <td>0.000000</td>\n",
              "      <td>0.000000</td>\n",
              "      <td>0.000000</td>\n",
              "      <td>0.000000</td>\n",
              "      <td>0.000000</td>\n",
              "      <td>150.000000</td>\n",
              "      <td>0.056466</td>\n",
              "      <td>0.019163</td>\n",
              "      <td>0.000000</td>\n",
              "      <td>1.0</td>\n",
              "    </tr>\n",
              "    <tr>\n",
              "      <th>25%</th>\n",
              "      <td>43.108940</td>\n",
              "      <td>0.800000</td>\n",
              "      <td>266.530000</td>\n",
              "      <td>0.000000</td>\n",
              "      <td>50.000000</td>\n",
              "      <td>0.000000</td>\n",
              "      <td>0.416667</td>\n",
              "      <td>0.000000</td>\n",
              "      <td>0.083333</td>\n",
              "      <td>0.000000</td>\n",
              "      <td>0.000000</td>\n",
              "      <td>6.000000</td>\n",
              "      <td>1600.000000</td>\n",
              "      <td>338.532555</td>\n",
              "      <td>134.865249</td>\n",
              "      <td>0.000000</td>\n",
              "      <td>1.0</td>\n",
              "    </tr>\n",
              "    <tr>\n",
              "      <th>50%</th>\n",
              "      <td>175.752206</td>\n",
              "      <td>1.000000</td>\n",
              "      <td>633.475000</td>\n",
              "      <td>175.000000</td>\n",
              "      <td>275.960000</td>\n",
              "      <td>0.000000</td>\n",
              "      <td>0.777778</td>\n",
              "      <td>0.083333</td>\n",
              "      <td>0.500000</td>\n",
              "      <td>0.000000</td>\n",
              "      <td>0.000000</td>\n",
              "      <td>12.000000</td>\n",
              "      <td>3300.000000</td>\n",
              "      <td>711.165929</td>\n",
              "      <td>176.966918</td>\n",
              "      <td>0.083333</td>\n",
              "      <td>1.0</td>\n",
              "    </tr>\n",
              "    <tr>\n",
              "      <th>75%</th>\n",
              "      <td>827.012195</td>\n",
              "      <td>1.000000</td>\n",
              "      <td>1559.165000</td>\n",
              "      <td>912.555000</td>\n",
              "      <td>668.817500</td>\n",
              "      <td>0.000000</td>\n",
              "      <td>1.000000</td>\n",
              "      <td>0.500000</td>\n",
              "      <td>0.916667</td>\n",
              "      <td>0.000000</td>\n",
              "      <td>0.000000</td>\n",
              "      <td>24.000000</td>\n",
              "      <td>6500.000000</td>\n",
              "      <td>1569.845156</td>\n",
              "      <td>276.529699</td>\n",
              "      <td>0.545455</td>\n",
              "      <td>1.0</td>\n",
              "    </tr>\n",
              "    <tr>\n",
              "      <th>max</th>\n",
              "      <td>11547.520010</td>\n",
              "      <td>1.000000</td>\n",
              "      <td>49039.570000</td>\n",
              "      <td>40761.250000</td>\n",
              "      <td>22500.000000</td>\n",
              "      <td>558.166886</td>\n",
              "      <td>1.000000</td>\n",
              "      <td>1.000000</td>\n",
              "      <td>1.000000</td>\n",
              "      <td>0.083333</td>\n",
              "      <td>1.000000</td>\n",
              "      <td>358.000000</td>\n",
              "      <td>28000.000000</td>\n",
              "      <td>46930.598240</td>\n",
              "      <td>3068.125648</td>\n",
              "      <td>1.000000</td>\n",
              "      <td>1.0</td>\n",
              "    </tr>\n",
              "  </tbody>\n",
              "</table>\n",
              "</div>"
            ],
            "text/plain": [
              "            BALANCE  BALANCE_FREQUENCY  ...  PRC_FULL_PAYMENT  cluster\n",
              "count   3962.000000        3962.000000  ...       3962.000000   3962.0\n",
              "mean     667.092054           0.854123  ...          0.283921      1.0\n",
              "std     1180.280943           0.239051  ...          0.366701      0.0\n",
              "min        0.000000           0.000000  ...          0.000000      1.0\n",
              "25%       43.108940           0.800000  ...          0.000000      1.0\n",
              "50%      175.752206           1.000000  ...          0.083333      1.0\n",
              "75%      827.012195           1.000000  ...          0.545455      1.0\n",
              "max    11547.520010           1.000000  ...          1.000000      1.0\n",
              "\n",
              "[8 rows x 17 columns]"
            ]
          },
          "metadata": {
            "tags": []
          }
        },
        {
          "output_type": "display_data",
          "data": {
            "text/html": [
              "<div>\n",
              "<style scoped>\n",
              "    .dataframe tbody tr th:only-of-type {\n",
              "        vertical-align: middle;\n",
              "    }\n",
              "\n",
              "    .dataframe tbody tr th {\n",
              "        vertical-align: top;\n",
              "    }\n",
              "\n",
              "    .dataframe thead th {\n",
              "        text-align: right;\n",
              "    }\n",
              "</style>\n",
              "<table border=\"1\" class=\"dataframe\">\n",
              "  <thead>\n",
              "    <tr style=\"text-align: right;\">\n",
              "      <th></th>\n",
              "      <th>BALANCE</th>\n",
              "      <th>BALANCE_FREQUENCY</th>\n",
              "      <th>PURCHASES</th>\n",
              "      <th>ONEOFF_PURCHASES</th>\n",
              "      <th>INSTALLMENTS_PURCHASES</th>\n",
              "      <th>CASH_ADVANCE</th>\n",
              "      <th>PURCHASES_FREQUENCY</th>\n",
              "      <th>ONEOFF_PURCHASES_FREQUENCY</th>\n",
              "      <th>PURCHASES_INSTALLMENTS_FREQUENCY</th>\n",
              "      <th>CASH_ADVANCE_FREQUENCY</th>\n",
              "      <th>CASH_ADVANCE_TRX</th>\n",
              "      <th>PURCHASES_TRX</th>\n",
              "      <th>CREDIT_LIMIT</th>\n",
              "      <th>PAYMENTS</th>\n",
              "      <th>MINIMUM_PAYMENTS</th>\n",
              "      <th>PRC_FULL_PAYMENT</th>\n",
              "      <th>cluster</th>\n",
              "    </tr>\n",
              "  </thead>\n",
              "  <tbody>\n",
              "    <tr>\n",
              "      <th>count</th>\n",
              "      <td>2146.000000</td>\n",
              "      <td>2146.000000</td>\n",
              "      <td>2146.000000</td>\n",
              "      <td>2146.000000</td>\n",
              "      <td>2146.000000</td>\n",
              "      <td>2146.000000</td>\n",
              "      <td>2146.000000</td>\n",
              "      <td>2146.000000</td>\n",
              "      <td>2146.000000</td>\n",
              "      <td>2146.000000</td>\n",
              "      <td>2146.000000</td>\n",
              "      <td>2146.000000</td>\n",
              "      <td>2146.000000</td>\n",
              "      <td>2146.000000</td>\n",
              "      <td>2146.000000</td>\n",
              "      <td>2146.000000</td>\n",
              "      <td>2146.0</td>\n",
              "    </tr>\n",
              "    <tr>\n",
              "      <th>mean</th>\n",
              "      <td>2176.012478</td>\n",
              "      <td>0.895777</td>\n",
              "      <td>4.876076</td>\n",
              "      <td>4.850214</td>\n",
              "      <td>0.025862</td>\n",
              "      <td>1957.326496</td>\n",
              "      <td>0.007824</td>\n",
              "      <td>0.007785</td>\n",
              "      <td>0.000039</td>\n",
              "      <td>0.270318</td>\n",
              "      <td>6.394688</td>\n",
              "      <td>0.093663</td>\n",
              "      <td>4042.344460</td>\n",
              "      <td>1681.246462</td>\n",
              "      <td>1010.230613</td>\n",
              "      <td>0.044253</td>\n",
              "      <td>2.0</td>\n",
              "    </tr>\n",
              "    <tr>\n",
              "      <th>std</th>\n",
              "      <td>2138.910811</td>\n",
              "      <td>0.210092</td>\n",
              "      <td>18.584987</td>\n",
              "      <td>18.553096</td>\n",
              "      <td>1.198059</td>\n",
              "      <td>2494.811323</td>\n",
              "      <td>0.027088</td>\n",
              "      <td>0.027040</td>\n",
              "      <td>0.001799</td>\n",
              "      <td>0.207927</td>\n",
              "      <td>8.788016</td>\n",
              "      <td>0.327578</td>\n",
              "      <td>3296.009683</td>\n",
              "      <td>2703.466344</td>\n",
              "      <td>2641.896816</td>\n",
              "      <td>0.137618</td>\n",
              "      <td>0.0</td>\n",
              "    </tr>\n",
              "    <tr>\n",
              "      <th>min</th>\n",
              "      <td>0.001146</td>\n",
              "      <td>0.090909</td>\n",
              "      <td>0.000000</td>\n",
              "      <td>0.000000</td>\n",
              "      <td>0.000000</td>\n",
              "      <td>0.000000</td>\n",
              "      <td>0.000000</td>\n",
              "      <td>0.000000</td>\n",
              "      <td>0.000000</td>\n",
              "      <td>0.000000</td>\n",
              "      <td>0.000000</td>\n",
              "      <td>0.000000</td>\n",
              "      <td>50.000000</td>\n",
              "      <td>0.049513</td>\n",
              "      <td>0.117036</td>\n",
              "      <td>0.000000</td>\n",
              "      <td>2.0</td>\n",
              "    </tr>\n",
              "    <tr>\n",
              "      <th>25%</th>\n",
              "      <td>785.076871</td>\n",
              "      <td>0.909091</td>\n",
              "      <td>0.000000</td>\n",
              "      <td>0.000000</td>\n",
              "      <td>0.000000</td>\n",
              "      <td>309.672574</td>\n",
              "      <td>0.000000</td>\n",
              "      <td>0.000000</td>\n",
              "      <td>0.000000</td>\n",
              "      <td>0.083333</td>\n",
              "      <td>2.000000</td>\n",
              "      <td>0.000000</td>\n",
              "      <td>1500.000000</td>\n",
              "      <td>376.860865</td>\n",
              "      <td>258.701335</td>\n",
              "      <td>0.000000</td>\n",
              "      <td>2.0</td>\n",
              "    </tr>\n",
              "    <tr>\n",
              "      <th>50%</th>\n",
              "      <td>1468.319962</td>\n",
              "      <td>1.000000</td>\n",
              "      <td>0.000000</td>\n",
              "      <td>0.000000</td>\n",
              "      <td>0.000000</td>\n",
              "      <td>1158.515655</td>\n",
              "      <td>0.000000</td>\n",
              "      <td>0.000000</td>\n",
              "      <td>0.000000</td>\n",
              "      <td>0.250000</td>\n",
              "      <td>4.000000</td>\n",
              "      <td>0.000000</td>\n",
              "      <td>3000.000000</td>\n",
              "      <td>775.036490</td>\n",
              "      <td>481.167954</td>\n",
              "      <td>0.000000</td>\n",
              "      <td>2.0</td>\n",
              "    </tr>\n",
              "    <tr>\n",
              "      <th>75%</th>\n",
              "      <td>2841.876341</td>\n",
              "      <td>1.000000</td>\n",
              "      <td>0.000000</td>\n",
              "      <td>0.000000</td>\n",
              "      <td>0.000000</td>\n",
              "      <td>2673.666226</td>\n",
              "      <td>0.000000</td>\n",
              "      <td>0.000000</td>\n",
              "      <td>0.000000</td>\n",
              "      <td>0.333333</td>\n",
              "      <td>8.000000</td>\n",
              "      <td>0.000000</td>\n",
              "      <td>6000.000000</td>\n",
              "      <td>1744.608149</td>\n",
              "      <td>999.917337</td>\n",
              "      <td>0.000000</td>\n",
              "      <td>2.0</td>\n",
              "    </tr>\n",
              "    <tr>\n",
              "      <th>max</th>\n",
              "      <td>14581.459140</td>\n",
              "      <td>1.000000</td>\n",
              "      <td>306.910000</td>\n",
              "      <td>306.910000</td>\n",
              "      <td>55.500000</td>\n",
              "      <td>26194.049540</td>\n",
              "      <td>0.333333</td>\n",
              "      <td>0.333333</td>\n",
              "      <td>0.083333</td>\n",
              "      <td>1.500000</td>\n",
              "      <td>123.000000</td>\n",
              "      <td>4.000000</td>\n",
              "      <td>19000.000000</td>\n",
              "      <td>34107.074990</td>\n",
              "      <td>61031.618600</td>\n",
              "      <td>1.000000</td>\n",
              "      <td>2.0</td>\n",
              "    </tr>\n",
              "  </tbody>\n",
              "</table>\n",
              "</div>"
            ],
            "text/plain": [
              "            BALANCE  BALANCE_FREQUENCY  ...  PRC_FULL_PAYMENT  cluster\n",
              "count   2146.000000        2146.000000  ...       2146.000000   2146.0\n",
              "mean    2176.012478           0.895777  ...          0.044253      2.0\n",
              "std     2138.910811           0.210092  ...          0.137618      0.0\n",
              "min        0.001146           0.090909  ...          0.000000      2.0\n",
              "25%      785.076871           0.909091  ...          0.000000      2.0\n",
              "50%     1468.319962           1.000000  ...          0.000000      2.0\n",
              "75%     2841.876341           1.000000  ...          0.000000      2.0\n",
              "max    14581.459140           1.000000  ...          1.000000      2.0\n",
              "\n",
              "[8 rows x 17 columns]"
            ]
          },
          "metadata": {
            "tags": []
          }
        }
      ]
    },
    {
      "cell_type": "markdown",
      "metadata": {
        "id": "QE2x1Nnj3C7i"
      },
      "source": [
        "**Use the data with reduced dimension by PCA for the three algorithms:**"
      ]
    },
    {
      "cell_type": "code",
      "metadata": {
        "id": "Z_4_vf953OWl"
      },
      "source": [
        "kmeans2 = K_Means(k = 2)\n",
        "kmeans2.fit(np.array(pca2_train))\n",
        "kmeans3 = K_Means(k = 3)\n",
        "kmeans3.fit(np.array(pca2_train))\n",
        "kmeans5 = K_Means(k = 5)\n",
        "kmeans5.fit(np.array(pca2_train))\n",
        "\n",
        "spectral_rbf = SpectralClustering(n_clusters=2, affinity='rbf', random_state=0).fit(normalize_train)\n",
        "spectral_nn = SpectralClustering(n_clusters=2, affinity='nearest_neighbors', random_state=0).fit(normalize_train)\n",
        "spectral_rbf_pca = SpectralClustering(n_clusters=3, affinity='rbf', random_state=0).fit(pca2_train)\n",
        "spectral_nn_pca = SpectralClustering(n_clusters=3, affinity='nearest_neighbors', random_state=0).fit(pca2_train)\n",
        "gm_clusters = GM(n_components=3, random_state=0).fit_predict(pca2_train)"
      ],
      "execution_count": null,
      "outputs": []
    },
    {
      "cell_type": "markdown",
      "metadata": {
        "id": "G0LolITocXFb"
      },
      "source": [
        "## Algorithms performance and evaluation table"
      ]
    },
    {
      "cell_type": "code",
      "metadata": {
        "colab": {
          "base_uri": "https://localhost:8080/"
        },
        "id": "K8HgjsNkccJd",
        "outputId": "36e4b711-f54b-426f-96e7-4cd7efa361d7"
      },
      "source": [
        "metrics.silhouette_score(normalize_train, spectral_rbf.labels_)"
      ],
      "execution_count": null,
      "outputs": [
        {
          "output_type": "execute_result",
          "data": {
            "text/plain": [
              "0.24410696916497893"
            ]
          },
          "metadata": {
            "tags": []
          },
          "execution_count": 119
        }
      ]
    },
    {
      "cell_type": "code",
      "metadata": {
        "colab": {
          "base_uri": "https://localhost:8080/"
        },
        "id": "fQQOPoQN1w6c",
        "outputId": "216b8646-b766-4b03-a027-6757602bfc8d"
      },
      "source": [
        "metrics.silhouette_score(normalize_train, spectral_nn.labels_)"
      ],
      "execution_count": null,
      "outputs": [
        {
          "output_type": "execute_result",
          "data": {
            "text/plain": [
              "0.22142629371190284"
            ]
          },
          "metadata": {
            "tags": []
          },
          "execution_count": 120
        }
      ]
    },
    {
      "cell_type": "code",
      "metadata": {
        "colab": {
          "base_uri": "https://localhost:8080/"
        },
        "id": "Vu_MThaL13CT",
        "outputId": "42d292f5-5bdb-4139-92ea-cd84b7bbfa70"
      },
      "source": [
        "metrics.silhouette_score(normalize_train, cluster)"
      ],
      "execution_count": null,
      "outputs": [
        {
          "output_type": "execute_result",
          "data": {
            "text/plain": [
              "0.09640050064207985"
            ]
          },
          "metadata": {
            "tags": []
          },
          "execution_count": 118
        }
      ]
    },
    {
      "cell_type": "code",
      "metadata": {
        "colab": {
          "base_uri": "https://localhost:8080/"
        },
        "id": "xsjv_VIp6LKr",
        "outputId": "59920843-4ac6-4c7c-e8da-4d9342617be1"
      },
      "source": [
        "metrics.silhouette_score(normalize_train, kmeans2.labels)"
      ],
      "execution_count": null,
      "outputs": [
        {
          "output_type": "execute_result",
          "data": {
            "text/plain": [
              "0.14979764335904558"
            ]
          },
          "metadata": {
            "tags": []
          },
          "execution_count": 121
        }
      ]
    },
    {
      "cell_type": "code",
      "metadata": {
        "colab": {
          "base_uri": "https://localhost:8080/"
        },
        "id": "cVtlVB5x3TyW",
        "outputId": "c614a0bd-c536-4bd9-f410-8987f3a90be5"
      },
      "source": [
        "metrics.silhouette_score(normalize_train, kmeans3.labels)"
      ],
      "execution_count": null,
      "outputs": [
        {
          "output_type": "execute_result",
          "data": {
            "text/plain": [
              "0.19625002332942765"
            ]
          },
          "metadata": {
            "tags": []
          },
          "execution_count": 122
        }
      ]
    },
    {
      "cell_type": "code",
      "metadata": {
        "colab": {
          "base_uri": "https://localhost:8080/"
        },
        "id": "r9mlmwNV3T2g",
        "outputId": "b2c496f1-8804-4024-a065-80e245d0eea3"
      },
      "source": [
        "metrics.silhouette_score(normalize_train, kmeans5.labels)"
      ],
      "execution_count": null,
      "outputs": [
        {
          "output_type": "execute_result",
          "data": {
            "text/plain": [
              "0.17026015520548754"
            ]
          },
          "metadata": {
            "tags": []
          },
          "execution_count": 123
        }
      ]
    },
    {
      "cell_type": "code",
      "metadata": {
        "colab": {
          "base_uri": "https://localhost:8080/"
        },
        "id": "JtxrQylO6Xmp",
        "outputId": "52ceaba3-9bc7-4c1f-99ed-7367da70f216"
      },
      "source": [
        "metrics.silhouette_score(normalize_train, spectral_rbf_pca.labels_)"
      ],
      "execution_count": null,
      "outputs": [
        {
          "output_type": "execute_result",
          "data": {
            "text/plain": [
              "0.2224080976850469"
            ]
          },
          "metadata": {
            "tags": []
          },
          "execution_count": 133
        }
      ]
    },
    {
      "cell_type": "code",
      "metadata": {
        "colab": {
          "base_uri": "https://localhost:8080/"
        },
        "id": "V03nOu4vlPCd",
        "outputId": "9413df36-304d-4eed-aed0-bc041dffbb35"
      },
      "source": [
        "metrics.silhouette_score(normalize_train, spectral_nn_pca.labels_)"
      ],
      "execution_count": null,
      "outputs": [
        {
          "output_type": "execute_result",
          "data": {
            "text/plain": [
              "0.21149412388019723"
            ]
          },
          "metadata": {
            "tags": []
          },
          "execution_count": 134
        }
      ]
    },
    {
      "cell_type": "code",
      "metadata": {
        "colab": {
          "base_uri": "https://localhost:8080/"
        },
        "id": "NurUUhxT6gVs",
        "outputId": "6f37a3a6-c0bc-416c-d2be-30779b4b6234"
      },
      "source": [
        "metrics.silhouette_score(normalize_train, gm_clusters)"
      ],
      "execution_count": null,
      "outputs": [
        {
          "output_type": "execute_result",
          "data": {
            "text/plain": [
              "0.22142352065149057"
            ]
          },
          "metadata": {
            "tags": []
          },
          "execution_count": 126
        }
      ]
    },
    {
      "cell_type": "code",
      "metadata": {
        "colab": {
          "base_uri": "https://localhost:8080/"
        },
        "id": "OKuE7CJMe5Yy",
        "outputId": "0395daf6-b39c-410d-b3db-7f26f74f1a15"
      },
      "source": [
        "metrics.silhouette_score(pca2_train, kmeans2.labels)"
      ],
      "execution_count": null,
      "outputs": [
        {
          "output_type": "execute_result",
          "data": {
            "text/plain": [
              "0.2963131912666344"
            ]
          },
          "metadata": {
            "tags": []
          },
          "execution_count": 127
        }
      ]
    },
    {
      "cell_type": "code",
      "metadata": {
        "colab": {
          "base_uri": "https://localhost:8080/"
        },
        "id": "lVaVCrtEfJsy",
        "outputId": "fe9fe50b-d3d2-40f3-c0c6-15782404fb90"
      },
      "source": [
        "metrics.silhouette_score(pca2_train, kmeans3.labels)"
      ],
      "execution_count": null,
      "outputs": [
        {
          "output_type": "execute_result",
          "data": {
            "text/plain": [
              "0.43027762399367586"
            ]
          },
          "metadata": {
            "tags": []
          },
          "execution_count": 128
        }
      ]
    },
    {
      "cell_type": "code",
      "metadata": {
        "colab": {
          "base_uri": "https://localhost:8080/"
        },
        "id": "bUcrQt8wfNf4",
        "outputId": "a6897b31-5848-4a8b-8f1d-5c55ad125974"
      },
      "source": [
        "metrics.silhouette_score(pca2_train, kmeans5.labels)"
      ],
      "execution_count": null,
      "outputs": [
        {
          "output_type": "execute_result",
          "data": {
            "text/plain": [
              "0.41704271335413123"
            ]
          },
          "metadata": {
            "tags": []
          },
          "execution_count": 129
        }
      ]
    },
    {
      "cell_type": "code",
      "metadata": {
        "colab": {
          "base_uri": "https://localhost:8080/"
        },
        "id": "CO-_FVUjfN0a",
        "outputId": "1133dd98-834b-4c93-eaba-53d934529ca8"
      },
      "source": [
        "metrics.silhouette_score(pca2_train, spectral_rbf_pca.labels_)"
      ],
      "execution_count": null,
      "outputs": [
        {
          "output_type": "execute_result",
          "data": {
            "text/plain": [
              "0.4592897950984151"
            ]
          },
          "metadata": {
            "tags": []
          },
          "execution_count": 130
        }
      ]
    },
    {
      "cell_type": "code",
      "metadata": {
        "colab": {
          "base_uri": "https://localhost:8080/"
        },
        "id": "Uy8xGg_ClqUR",
        "outputId": "4e104991-8245-48ef-8bf9-868839bd44c6"
      },
      "source": [
        "metrics.silhouette_score(pca2_train, spectral_nn_pca.labels_)"
      ],
      "execution_count": null,
      "outputs": [
        {
          "output_type": "execute_result",
          "data": {
            "text/plain": [
              "0.44308729404784913"
            ]
          },
          "metadata": {
            "tags": []
          },
          "execution_count": 131
        }
      ]
    },
    {
      "cell_type": "code",
      "metadata": {
        "colab": {
          "base_uri": "https://localhost:8080/"
        },
        "id": "zCAGCocLfN89",
        "outputId": "33191afc-ba48-4094-821c-07f65fbb9b4b"
      },
      "source": [
        "metrics.silhouette_score(pca2_train, gm_clusters)"
      ],
      "execution_count": null,
      "outputs": [
        {
          "output_type": "execute_result",
          "data": {
            "text/plain": [
              "0.4623363946806928"
            ]
          },
          "metadata": {
            "tags": []
          },
          "execution_count": 132
        }
      ]
    },
    {
      "cell_type": "markdown",
      "metadata": {
        "id": "cG3S8dtqcvhN"
      },
      "source": [
        "## Conclusion"
      ]
    },
    {
      "cell_type": "code",
      "metadata": {
        "id": "h5T56KtCc02z"
      },
      "source": [
        ""
      ],
      "execution_count": null,
      "outputs": []
    }
  ]
}